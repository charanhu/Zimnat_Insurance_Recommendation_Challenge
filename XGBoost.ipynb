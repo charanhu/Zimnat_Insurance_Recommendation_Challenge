{
  "cells": [
    {
      "cell_type": "markdown",
      "metadata": {
        "id": "V5eq7ocQtb65"
      },
      "source": [
        "## Zimnat Insurance Product Recommendation Challenge"
      ]
    },
    {
      "cell_type": "code",
      "execution_count": 68,
      "metadata": {},
      "outputs": [
        {
          "name": "stdout",
          "output_type": "stream",
          "text": [
            "Requirement already satisfied: xgboost in c:\\users\\ei12753\\anaconda3\\lib\\site-packages (1.6.2)\n",
            "Requirement already satisfied: numpy in c:\\users\\ei12753\\anaconda3\\lib\\site-packages (from xgboost) (1.21.5)\n",
            "Requirement already satisfied: scipy in c:\\users\\ei12753\\anaconda3\\lib\\site-packages (from xgboost) (1.7.3)\n"
          ]
        }
      ],
      "source": [
        "!pip install xgboost"
      ]
    },
    {
      "cell_type": "code",
      "execution_count": 1,
      "metadata": {
        "colab": {
          "base_uri": "https://localhost:8080/",
          "height": 510
        },
        "id": "0HR1o2xoIe_Q",
        "outputId": "ede91ce9-6e98-4083-a64e-883f8115e77c"
      },
      "outputs": [],
      "source": [
        "# Importing all the Required Libraries\n",
        "\n",
        "from sklearn.metrics import classification_report, accuracy_score, make_scorer, f1_score, log_loss\n",
        "import warnings\n",
        "import xgboost as xgb\n",
        "from sklearn.model_selection import cross_val_score\n",
        "from sklearn.ensemble import RandomForestClassifier\n",
        "import pandas as pd\n",
        "import numpy\n",
        "import matplotlib.pyplot as plt\n",
        "import seaborn as sns\n",
        "import numpy as np\n",
        "%matplotlib inline\n",
        "\n",
        "warnings.filterwarnings('ignore')\n",
        "\n",
        "# Setting Random State\n",
        "RANDOM_STATE = 1\n",
        "np.random.seed(RANDOM_STATE)\n",
        "\n",
        "\n",
        "# Installing optuna - Only for Google Collab Environment\n",
        "#!pip install optuna\n"
      ]
    },
    {
      "cell_type": "code",
      "execution_count": 70,
      "metadata": {
        "collapsed": true,
        "id": "xRCoItheIe_X"
      },
      "outputs": [],
      "source": [
        "# Importing the data to pandas DataFrame\n",
        "df_train = pd.read_csv('Train.csv')\n",
        "df_test = pd.read_csv('Test.csv')\n"
      ]
    },
    {
      "cell_type": "code",
      "execution_count": 71,
      "metadata": {
        "id": "RU93fJnitb7D",
        "outputId": "dd715269-8435-48dd-c43b-318a071f3ae3"
      },
      "outputs": [
        {
          "name": "stdout",
          "output_type": "stream",
          "text": [
            "Training Set dimesions:  (29132, 29)\n",
            "Test Set dimesions:  (10000, 29)\n"
          ]
        }
      ],
      "source": [
        "print(\"Training Set dimesions: \", df_train.shape)\n",
        "print(\"Test Set dimesions: \", df_test.shape)\n"
      ]
    },
    {
      "cell_type": "code",
      "execution_count": 72,
      "metadata": {
        "id": "H1zFOyxttb7E",
        "outputId": "976c1809-12db-4f4d-ac35-650bec77c1ae"
      },
      "outputs": [
        {
          "data": {
            "text/plain": [
              "<AxesSubplot:>"
            ]
          },
          "execution_count": 72,
          "metadata": {},
          "output_type": "execute_result"
        },
        {
          "data": {
            "image/png": "[encoded data removed]",
            "text/plain": [
              "<Figure size 432x288 with 1 Axes>"
            ]
          },
          "metadata": {
            "needs_background": "light"
          },
          "output_type": "display_data"
        }
      ],
      "source": [
        "# Checking for Missing Values\n",
        "df_train['join_date'].value_counts().sort_values(\n",
        "    ascending=False).head(20).plot(kind=\"bar\")\n"
      ]
    },
    {
      "cell_type": "code",
      "execution_count": 73,
      "metadata": {
        "collapsed": true,
        "id": "xWQkTI6HIe_d"
      },
      "outputs": [],
      "source": [
        "# checking for the most common date and imputing by most common\n",
        "df_train['join_date'].fillna(df_train['join_date'].mode()[\n",
        "                             0], inplace=True, axis=0)\n",
        "df_test['join_date'].fillna(df_test['join_date'].mode()[0], inplace=True)\n"
      ]
    },
    {
      "cell_type": "code",
      "execution_count": 74,
      "metadata": {
        "id": "DRg7p1C0tb7G",
        "outputId": "73125012-71bc-458c-a219-5b7591e57516"
      },
      "outputs": [
        {
          "name": "stdout",
          "output_type": "stream",
          "text": [
            "Variable: sex  Number of Categories: 2\n",
            "Variable: marital_status  Number of Categories: 8\n",
            "Variable: branch_code  Number of Categories: 15\n",
            "Variable: occupation_code  Number of Categories: 233\n",
            "Variable: occupation_category_code  Number of Categories: 6\n"
          ]
        }
      ],
      "source": [
        "# Checking the number of Categories for Categorical Columns\n",
        "\n",
        "for cols in df_train.columns:\n",
        "    if df_train[cols].dtype == \"O\" and (cols not in [\"ID\", \"join_date\"]):\n",
        "        print(\"Variable:\", cols, \" Number of Categories:\",\n",
        "              len(df_train[cols].value_counts()))\n"
      ]
    },
    {
      "cell_type": "code",
      "execution_count": 75,
      "metadata": {
        "id": "ceDphOjWIe_i",
        "outputId": "a5873a79-69f8-4b54-fb70-51cdc4d868d4"
      },
      "outputs": [],
      "source": [
        "# One-hot encoding for categories where we do not have many categories\n",
        "cols = ['sex', 'marital_status', 'branch_code', 'occupation_category_code']\n",
        "df_train = pd.get_dummies(df_train, columns=cols, prefix=cols)\n",
        "df_test = pd.get_dummies(df_test, columns=cols, prefix=cols)\n",
        "\n",
        "# Feature Engineering ------- Creating additional features\n",
        "\n",
        "for df in [df_train, df_test]:\n",
        "    df['day_joined'] = pd.DatetimeIndex(df['join_date']).day\n",
        "    df['month_joined'] = pd.DatetimeIndex(df['join_date']).month\n",
        "    df['year_joined'] = pd.DatetimeIndex(df['join_date']).year\n",
        "    df['Age_at_join'] = df['year_joined'] - df['birth_year']\n",
        "    df['time_elapsed_joined'] = (pd.to_datetime(\n",
        "        '08/01/2020') - pd.DatetimeIndex(df['join_date'])).days\n",
        "    df.drop(columns='join_date', inplace=True)\n",
        "\n",
        "\n",
        "# We will only encode the top 95% of categories for the occupation code as there are too may categories to do one-hot\n",
        "value_cum = df_train.occupation_code.value_counts().sort_values(\n",
        "    ascending=False).cumsum()/df_train.shape[0]\n",
        "topn_encode = value_cum[value_cum < 0.95]\n",
        "\n",
        "topn = list(topn_encode.index)\n",
        "\n",
        "for df in [df_train, df_test]:\n",
        "    for categories in topn:\n",
        "        df['occupation_code_' +\n",
        "            categories] = np.where(df['occupation_code'] == categories, 1, 0)\n",
        "    df.drop(columns='occupation_code', inplace=True)\n"
      ]
    },
    {
      "cell_type": "code",
      "execution_count": 76,
      "metadata": {
        "colab": {
          "base_uri": "https://localhost:8080/",
          "height": 282
        },
        "id": "qqgbXBWJVUMO",
        "outputId": "ee333959-9b8b-4f0d-db46-740162500624"
      },
      "outputs": [
        {
          "name": "stdout",
          "output_type": "stream",
          "text": [
            "Training Set dimesions:  (29132, 110)\n",
            "Test Set dimesions:  (10000, 110)\n"
          ]
        }
      ],
      "source": [
        "print(\"Training Set dimesions: \", df_train.shape)\n",
        "print(\"Test Set dimesions: \", df_test.shape)\n"
      ]
    },
    {
      "cell_type": "code",
      "execution_count": 77,
      "metadata": {
        "collapsed": true,
        "id": "xc0rN-OYIe_u"
      },
      "outputs": [],
      "source": [
        "# Setting up the dataset for use in the model\n",
        "product_cols = ['P5DA', 'RIBP', '8NN1', '7POT', '66FJ', 'GYSR', 'SOP4', 'RVSZ', 'PYUQ', 'LJR9', 'N2MW',\n",
        "                'AHXO', 'BSTQ', 'FM3X', 'K6QO', 'QBOL', 'JWFN', 'JZ9D', 'J9JW', 'GHYX', 'ECY3']\n",
        "\n",
        "# Converting product to numeric label\n",
        "product_ref = dict()\n",
        "for i, x in enumerate(product_cols):\n",
        "    product_ref[x] = i\n"
      ]
    },
    {
      "cell_type": "code",
      "execution_count": 78,
      "metadata": {
        "collapsed": true,
        "id": "aF4TyBA4Ie_z"
      },
      "outputs": [],
      "source": [
        "# Converting the dataframe to duplicate observations across different products for the same ID\n",
        "transpose_df = pd.melt(\n",
        "    df_train, id_vars=['ID'], value_vars=product_cols).sort_values('ID')\n",
        "transpose_df = transpose_df.loc[transpose_df.value == 1]\n",
        "\n",
        "# Merging to main training set\n",
        "merged_df = pd.merge(df_train, transpose_df, on='ID', how='left')\n",
        "\n",
        "# Where target product in row, setting the value for product to zero\n",
        "\n",
        "\n",
        "def Replace_Targets(df):\n",
        "    for product in product_cols:\n",
        "        if df[product] == 1 and df['variable'] == product:\n",
        "            df[product] = 0\n",
        "\n",
        "    return df\n",
        "\n",
        "\n",
        "merged_df = merged_df.apply(Replace_Targets, axis=1)\n",
        "\n",
        "# Cleaning up and remapping products to numeric values\n",
        "merged_df.rename(columns={'variable': 'Target'}, inplace=True)\n",
        "merged_df.drop(columns=['value'], inplace=True)\n",
        "merged_df['Target'] = merged_df['Target'].map(product_ref)\n"
      ]
    },
    {
      "cell_type": "code",
      "execution_count": 79,
      "metadata": {
        "colab": {
          "base_uri": "https://localhost:8080/",
          "height": 525
        },
        "id": "iztlwboz4n67",
        "outputId": "b2bad6d7-80ab-4dab-e890-49bcb1165306"
      },
      "outputs": [
        {
          "data": {
            "image/png": "[encoded data removed]",
            "text/plain": [
              "<Figure size 432x288 with 1 Axes>"
            ]
          },
          "metadata": {
            "needs_background": "light"
          },
          "output_type": "display_data"
        }
      ],
      "source": [
        "# Feature selection using RandomForestClassifer\n",
        "Best_Features = RandomForestClassifier().fit(merged_df.drop(\n",
        "    columns=[\"ID\", \"Target\"]), merged_df.Target).feature_importances_\n",
        "\n",
        "# Creating X and Y dataframes\n",
        "X = merged_df.drop(columns=[\"ID\", \"Target\"])\n",
        "y = merged_df.Target\n",
        "\n",
        "# Selecting the TopN Features --- Feature Selection\n",
        "\n",
        "combined = dict(zip(X.columns, Best_Features))\n",
        "FI = pd.Series(combined)\n",
        "\n",
        "\n",
        "FI.sort_values(ascending=False).head(10).plot(kind='bar')\n",
        "plt.title('Best Features', fontsize=20)\n",
        "plt.xlabel('Feature Name', fontsize=15)\n",
        "plt.ylabel('Feature Importance', fontsize=15)\n",
        "\n",
        "\n",
        "BF = list(FI.sort_values(ascending=False).head(10).index)\n"
      ]
    },
    {
      "cell_type": "code",
      "execution_count": 80,
      "metadata": {
        "colab": {
          "base_uri": "https://localhost:8080/",
          "height": 357
        },
        "id": "LWhhnXvaRWIC",
        "outputId": "c733c1de-f9b6-46eb-f2c2-bc947840ea8f"
      },
      "outputs": [
        {
          "data": {
            "text/plain": [
              "7     25328\n",
              "14    21629\n",
              "15     6833\n",
              "8      2173\n",
              "1      1780\n",
              "17     1425\n",
              "18     1418\n",
              "20     1102\n",
              "19      902\n",
              "10      838\n",
              "11      539\n",
              "6       431\n",
              "9       354\n",
              "4       339\n",
              "12      324\n",
              "3       316\n",
              "16      311\n",
              "2       157\n",
              "13      110\n",
              "0        40\n",
              "5         4\n",
              "Name: Target, dtype: int64"
            ]
          },
          "execution_count": 80,
          "metadata": {},
          "output_type": "execute_result"
        }
      ],
      "source": [
        "# Checking the distribution of classes\n",
        "merged_df['Target'].value_counts().sort_values(ascending=False)\n"
      ]
    },
    {
      "cell_type": "code",
      "execution_count": 81,
      "metadata": {
        "colab": {
          "base_uri": "https://localhost:8080/",
          "height": 309
        },
        "id": "bbFX9O3BIfAC",
        "outputId": "881016a2-ab9c-47f7-8dbc-a7eb8052c232"
      },
      "outputs": [],
      "source": [
        "# Oversampling classes using SMOTE\n",
        "from imblearn.over_sampling import SMOTE\n",
        "desired_classes = {5: 50, 0: 100, 13: 200,\n",
        "                   2: 300, 19: 3000, 4: 700, 6: 800, 3: 700}\n",
        "sm = SMOTE(random_state=RANDOM_STATE,\n",
        "           sampling_strategy=desired_classes, k_neighbors=3)\n",
        "X_res, y_res = sm.fit_resample(X, y)\n"
      ]
    },
    {
      "cell_type": "code",
      "execution_count": 82,
      "metadata": {},
      "outputs": [],
      "source": [
        "# Training the model\n",
        "\n",
        "import xgboost as xgb\n",
        "from sklearn.model_selection import train_test_split\n",
        "\n",
        "# Splitting the dataset\n",
        "X_train, X_test, y_train, y_test = train_test_split(\n",
        "    X_res, y_res, test_size=0.3, random_state=RANDOM_STATE)\n",
        "\n",
        "# Fitting the Model\n",
        "params = {'objective': 'multi:softprob', 'num_class': 21, 'max_depth': 9,\n",
        "          'eta': 0.20, 'booster': 'dart', 'reg_lambda': 30,\n",
        "          'colsample_bytre': 0.35, 'subsample': 0.85, 'eval_metric': 'mlogloss', 'n_threads': 2}\n",
        "num_boost_round = 999\n",
        "early_stopping = 10\n",
        "\n",
        "\n",
        "dtrain = xgb.DMatrix(X_train, label=y_train)\n",
        "dtest = xgb.DMatrix(X_test, label=y_test)\n",
        "\n",
        "evals = [(dtrain, 'Train'), (dtest, 'Test')]"
      ]
    },
    {
      "cell_type": "code",
      "execution_count": 83,
      "metadata": {},
      "outputs": [
        {
          "name": "stdout",
          "output_type": "stream",
          "text": [
            "<class 'list'>\n"
          ]
        }
      ],
      "source": [
        "# type of evals\n",
        "print(type(evals))"
      ]
    },
    {
      "cell_type": "code",
      "execution_count": 84,
      "metadata": {
        "colab": {
          "base_uri": "https://localhost:8080/",
          "height": 1000
        },
        "id": "aqrKeP9m-lAx",
        "outputId": "1e34b97f-e86f-467a-85fa-991dc6007270"
      },
      "outputs": [
        {
          "name": "stdout",
          "output_type": "stream",
          "text": [
            "[14:45:23] WARNING: C:/Users/administrator/workspace/xgboost-win64_release_1.6.0/src/learner.cc:627: \n",
            "Parameters: { \"colsample_bytre\", \"n_threads\" } might not be used.\n",
            "\n",
            "  This could be a false alarm, with some parameters getting used by language bindings but\n",
            "  then being mistakenly passed down to XGBoost core, or some parameter actually being used\n",
            "  but getting flagged wrongly here. Please open an issue if you find any such cases.\n",
            "\n",
            "\n",
            "[0]\tTrain-mlogloss:1.75114\tTest-mlogloss:1.75743\n",
            "[1]\tTrain-mlogloss:1.46655\tTest-mlogloss:1.47606\n",
            "[2]\tTrain-mlogloss:1.26746\tTest-mlogloss:1.28053\n",
            "[3]\tTrain-mlogloss:1.11793\tTest-mlogloss:1.13386\n",
            "[4]\tTrain-mlogloss:1.00155\tTest-mlogloss:1.01984\n",
            "[5]\tTrain-mlogloss:0.90702\tTest-mlogloss:0.92784\n",
            "[6]\tTrain-mlogloss:0.83112\tTest-mlogloss:0.85389\n",
            "[7]\tTrain-mlogloss:0.76773\tTest-mlogloss:0.79241\n",
            "[8]\tTrain-mlogloss:0.71442\tTest-mlogloss:0.74128\n",
            "[9]\tTrain-mlogloss:0.66974\tTest-mlogloss:0.69854\n",
            "[10]\tTrain-mlogloss:0.63200\tTest-mlogloss:0.66271\n",
            "[11]\tTrain-mlogloss:0.59877\tTest-mlogloss:0.63173\n",
            "[12]\tTrain-mlogloss:0.57138\tTest-mlogloss:0.60616\n",
            "[13]\tTrain-mlogloss:0.54689\tTest-mlogloss:0.58356\n",
            "[14]\tTrain-mlogloss:0.52561\tTest-mlogloss:0.56393\n",
            "[15]\tTrain-mlogloss:0.50752\tTest-mlogloss:0.54757\n",
            "[16]\tTrain-mlogloss:0.49076\tTest-mlogloss:0.53240\n",
            "[17]\tTrain-mlogloss:0.47592\tTest-mlogloss:0.51943\n",
            "[18]\tTrain-mlogloss:0.46319\tTest-mlogloss:0.50849\n",
            "[19]\tTrain-mlogloss:0.45186\tTest-mlogloss:0.49877\n",
            "[20]\tTrain-mlogloss:0.44124\tTest-mlogloss:0.48994\n",
            "[21]\tTrain-mlogloss:0.43220\tTest-mlogloss:0.48238\n",
            "[22]\tTrain-mlogloss:0.42404\tTest-mlogloss:0.47553\n",
            "[23]\tTrain-mlogloss:0.41638\tTest-mlogloss:0.46920\n",
            "[24]\tTrain-mlogloss:0.40927\tTest-mlogloss:0.46362\n",
            "[25]\tTrain-mlogloss:0.40330\tTest-mlogloss:0.45883\n",
            "[26]\tTrain-mlogloss:0.39749\tTest-mlogloss:0.45440\n",
            "[27]\tTrain-mlogloss:0.39190\tTest-mlogloss:0.45039\n",
            "[28]\tTrain-mlogloss:0.38635\tTest-mlogloss:0.44634\n",
            "[29]\tTrain-mlogloss:0.38165\tTest-mlogloss:0.44295\n",
            "[30]\tTrain-mlogloss:0.37722\tTest-mlogloss:0.43961\n",
            "[31]\tTrain-mlogloss:0.37309\tTest-mlogloss:0.43660\n",
            "[32]\tTrain-mlogloss:0.36888\tTest-mlogloss:0.43379\n",
            "[33]\tTrain-mlogloss:0.36510\tTest-mlogloss:0.43122\n",
            "[34]\tTrain-mlogloss:0.36144\tTest-mlogloss:0.42892\n",
            "[35]\tTrain-mlogloss:0.35826\tTest-mlogloss:0.42685\n",
            "[36]\tTrain-mlogloss:0.35488\tTest-mlogloss:0.42481\n",
            "[37]\tTrain-mlogloss:0.35226\tTest-mlogloss:0.42312\n",
            "[38]\tTrain-mlogloss:0.34940\tTest-mlogloss:0.42149\n",
            "[39]\tTrain-mlogloss:0.34648\tTest-mlogloss:0.41982\n",
            "[40]\tTrain-mlogloss:0.34358\tTest-mlogloss:0.41831\n",
            "[41]\tTrain-mlogloss:0.34108\tTest-mlogloss:0.41688\n",
            "[42]\tTrain-mlogloss:0.33847\tTest-mlogloss:0.41549\n",
            "[43]\tTrain-mlogloss:0.33610\tTest-mlogloss:0.41415\n",
            "[44]\tTrain-mlogloss:0.33370\tTest-mlogloss:0.41298\n",
            "[45]\tTrain-mlogloss:0.33137\tTest-mlogloss:0.41180\n",
            "[46]\tTrain-mlogloss:0.32904\tTest-mlogloss:0.41069\n",
            "[47]\tTrain-mlogloss:0.32684\tTest-mlogloss:0.40960\n",
            "[48]\tTrain-mlogloss:0.32460\tTest-mlogloss:0.40868\n",
            "[49]\tTrain-mlogloss:0.32251\tTest-mlogloss:0.40769\n",
            "[50]\tTrain-mlogloss:0.32062\tTest-mlogloss:0.40694\n",
            "[51]\tTrain-mlogloss:0.31843\tTest-mlogloss:0.40595\n",
            "[52]\tTrain-mlogloss:0.31676\tTest-mlogloss:0.40516\n",
            "[53]\tTrain-mlogloss:0.31495\tTest-mlogloss:0.40436\n",
            "[54]\tTrain-mlogloss:0.31261\tTest-mlogloss:0.40328\n",
            "[55]\tTrain-mlogloss:0.31089\tTest-mlogloss:0.40259\n",
            "[56]\tTrain-mlogloss:0.30904\tTest-mlogloss:0.40177\n",
            "[57]\tTrain-mlogloss:0.30738\tTest-mlogloss:0.40109\n",
            "[58]\tTrain-mlogloss:0.30554\tTest-mlogloss:0.40043\n",
            "[59]\tTrain-mlogloss:0.30386\tTest-mlogloss:0.39987\n",
            "[60]\tTrain-mlogloss:0.30216\tTest-mlogloss:0.39931\n",
            "[61]\tTrain-mlogloss:0.30050\tTest-mlogloss:0.39871\n",
            "[62]\tTrain-mlogloss:0.29887\tTest-mlogloss:0.39812\n",
            "[63]\tTrain-mlogloss:0.29745\tTest-mlogloss:0.39758\n",
            "[64]\tTrain-mlogloss:0.29578\tTest-mlogloss:0.39698\n",
            "[65]\tTrain-mlogloss:0.29434\tTest-mlogloss:0.39652\n",
            "[66]\tTrain-mlogloss:0.29270\tTest-mlogloss:0.39595\n",
            "[67]\tTrain-mlogloss:0.29120\tTest-mlogloss:0.39540\n",
            "[68]\tTrain-mlogloss:0.28984\tTest-mlogloss:0.39500\n",
            "[69]\tTrain-mlogloss:0.28844\tTest-mlogloss:0.39454\n",
            "[70]\tTrain-mlogloss:0.28698\tTest-mlogloss:0.39409\n",
            "[71]\tTrain-mlogloss:0.28555\tTest-mlogloss:0.39361\n",
            "[72]\tTrain-mlogloss:0.28416\tTest-mlogloss:0.39321\n",
            "[73]\tTrain-mlogloss:0.28287\tTest-mlogloss:0.39273\n",
            "[74]\tTrain-mlogloss:0.28140\tTest-mlogloss:0.39232\n",
            "[75]\tTrain-mlogloss:0.28026\tTest-mlogloss:0.39200\n",
            "[76]\tTrain-mlogloss:0.27896\tTest-mlogloss:0.39164\n",
            "[77]\tTrain-mlogloss:0.27764\tTest-mlogloss:0.39127\n",
            "[78]\tTrain-mlogloss:0.27640\tTest-mlogloss:0.39098\n",
            "[79]\tTrain-mlogloss:0.27499\tTest-mlogloss:0.39059\n",
            "[80]\tTrain-mlogloss:0.27375\tTest-mlogloss:0.39019\n",
            "[81]\tTrain-mlogloss:0.27278\tTest-mlogloss:0.38992\n",
            "[82]\tTrain-mlogloss:0.27139\tTest-mlogloss:0.38952\n",
            "[83]\tTrain-mlogloss:0.27020\tTest-mlogloss:0.38938\n",
            "[84]\tTrain-mlogloss:0.26890\tTest-mlogloss:0.38899\n",
            "[85]\tTrain-mlogloss:0.26768\tTest-mlogloss:0.38878\n",
            "[86]\tTrain-mlogloss:0.26638\tTest-mlogloss:0.38854\n",
            "[87]\tTrain-mlogloss:0.26507\tTest-mlogloss:0.38830\n",
            "[88]\tTrain-mlogloss:0.26392\tTest-mlogloss:0.38803\n",
            "[89]\tTrain-mlogloss:0.26283\tTest-mlogloss:0.38785\n",
            "[90]\tTrain-mlogloss:0.26129\tTest-mlogloss:0.38738\n",
            "[91]\tTrain-mlogloss:0.26005\tTest-mlogloss:0.38720\n",
            "[92]\tTrain-mlogloss:0.25896\tTest-mlogloss:0.38700\n",
            "[93]\tTrain-mlogloss:0.25767\tTest-mlogloss:0.38672\n",
            "[94]\tTrain-mlogloss:0.25650\tTest-mlogloss:0.38637\n",
            "[95]\tTrain-mlogloss:0.25554\tTest-mlogloss:0.38619\n",
            "[96]\tTrain-mlogloss:0.25425\tTest-mlogloss:0.38586\n",
            "[97]\tTrain-mlogloss:0.25298\tTest-mlogloss:0.38564\n",
            "[98]\tTrain-mlogloss:0.25194\tTest-mlogloss:0.38548\n",
            "[99]\tTrain-mlogloss:0.25072\tTest-mlogloss:0.38520\n",
            "[100]\tTrain-mlogloss:0.24971\tTest-mlogloss:0.38501\n",
            "[101]\tTrain-mlogloss:0.24870\tTest-mlogloss:0.38483\n",
            "[102]\tTrain-mlogloss:0.24765\tTest-mlogloss:0.38467\n",
            "[103]\tTrain-mlogloss:0.24671\tTest-mlogloss:0.38455\n",
            "[104]\tTrain-mlogloss:0.24580\tTest-mlogloss:0.38439\n",
            "[105]\tTrain-mlogloss:0.24462\tTest-mlogloss:0.38419\n",
            "[106]\tTrain-mlogloss:0.24352\tTest-mlogloss:0.38400\n",
            "[107]\tTrain-mlogloss:0.24255\tTest-mlogloss:0.38382\n",
            "[108]\tTrain-mlogloss:0.24165\tTest-mlogloss:0.38370\n",
            "[109]\tTrain-mlogloss:0.24045\tTest-mlogloss:0.38352\n",
            "[110]\tTrain-mlogloss:0.23940\tTest-mlogloss:0.38346\n",
            "[111]\tTrain-mlogloss:0.23847\tTest-mlogloss:0.38317\n",
            "[112]\tTrain-mlogloss:0.23750\tTest-mlogloss:0.38310\n",
            "[113]\tTrain-mlogloss:0.23644\tTest-mlogloss:0.38303\n",
            "[114]\tTrain-mlogloss:0.23540\tTest-mlogloss:0.38291\n",
            "[115]\tTrain-mlogloss:0.23451\tTest-mlogloss:0.38285\n",
            "[116]\tTrain-mlogloss:0.23362\tTest-mlogloss:0.38266\n",
            "[117]\tTrain-mlogloss:0.23262\tTest-mlogloss:0.38252\n",
            "[118]\tTrain-mlogloss:0.23170\tTest-mlogloss:0.38234\n",
            "[119]\tTrain-mlogloss:0.23061\tTest-mlogloss:0.38213\n",
            "[120]\tTrain-mlogloss:0.22952\tTest-mlogloss:0.38198\n",
            "[121]\tTrain-mlogloss:0.22848\tTest-mlogloss:0.38184\n",
            "[122]\tTrain-mlogloss:0.22768\tTest-mlogloss:0.38174\n",
            "[123]\tTrain-mlogloss:0.22677\tTest-mlogloss:0.38167\n",
            "[124]\tTrain-mlogloss:0.22585\tTest-mlogloss:0.38151\n",
            "[125]\tTrain-mlogloss:0.22502\tTest-mlogloss:0.38143\n",
            "[126]\tTrain-mlogloss:0.22419\tTest-mlogloss:0.38130\n",
            "[127]\tTrain-mlogloss:0.22323\tTest-mlogloss:0.38114\n",
            "[128]\tTrain-mlogloss:0.22232\tTest-mlogloss:0.38101\n",
            "[129]\tTrain-mlogloss:0.22150\tTest-mlogloss:0.38107\n",
            "[130]\tTrain-mlogloss:0.22052\tTest-mlogloss:0.38109\n",
            "[131]\tTrain-mlogloss:0.21958\tTest-mlogloss:0.38096\n",
            "[132]\tTrain-mlogloss:0.21879\tTest-mlogloss:0.38087\n",
            "[133]\tTrain-mlogloss:0.21808\tTest-mlogloss:0.38076\n",
            "[134]\tTrain-mlogloss:0.21727\tTest-mlogloss:0.38077\n",
            "[135]\tTrain-mlogloss:0.21625\tTest-mlogloss:0.38067\n",
            "[136]\tTrain-mlogloss:0.21522\tTest-mlogloss:0.38048\n",
            "[137]\tTrain-mlogloss:0.21429\tTest-mlogloss:0.38038\n",
            "[138]\tTrain-mlogloss:0.21349\tTest-mlogloss:0.38037\n",
            "[139]\tTrain-mlogloss:0.21261\tTest-mlogloss:0.38021\n",
            "[140]\tTrain-mlogloss:0.21171\tTest-mlogloss:0.38009\n",
            "[141]\tTrain-mlogloss:0.21092\tTest-mlogloss:0.37998\n",
            "[142]\tTrain-mlogloss:0.20996\tTest-mlogloss:0.37982\n",
            "[143]\tTrain-mlogloss:0.20910\tTest-mlogloss:0.37973\n",
            "[144]\tTrain-mlogloss:0.20826\tTest-mlogloss:0.37971\n",
            "[145]\tTrain-mlogloss:0.20739\tTest-mlogloss:0.37969\n",
            "[146]\tTrain-mlogloss:0.20675\tTest-mlogloss:0.37966\n",
            "[147]\tTrain-mlogloss:0.20587\tTest-mlogloss:0.37960\n",
            "[148]\tTrain-mlogloss:0.20509\tTest-mlogloss:0.37958\n",
            "[149]\tTrain-mlogloss:0.20436\tTest-mlogloss:0.37956\n",
            "[150]\tTrain-mlogloss:0.20364\tTest-mlogloss:0.37955\n",
            "[151]\tTrain-mlogloss:0.20288\tTest-mlogloss:0.37952\n",
            "[152]\tTrain-mlogloss:0.20214\tTest-mlogloss:0.37943\n",
            "[153]\tTrain-mlogloss:0.20129\tTest-mlogloss:0.37939\n",
            "[154]\tTrain-mlogloss:0.20057\tTest-mlogloss:0.37942\n",
            "[155]\tTrain-mlogloss:0.19967\tTest-mlogloss:0.37943\n",
            "[156]\tTrain-mlogloss:0.19881\tTest-mlogloss:0.37931\n",
            "[157]\tTrain-mlogloss:0.19807\tTest-mlogloss:0.37920\n",
            "[158]\tTrain-mlogloss:0.19740\tTest-mlogloss:0.37923\n",
            "[159]\tTrain-mlogloss:0.19658\tTest-mlogloss:0.37912\n",
            "[160]\tTrain-mlogloss:0.19586\tTest-mlogloss:0.37907\n",
            "[161]\tTrain-mlogloss:0.19505\tTest-mlogloss:0.37898\n",
            "[162]\tTrain-mlogloss:0.19429\tTest-mlogloss:0.37886\n",
            "[163]\tTrain-mlogloss:0.19358\tTest-mlogloss:0.37874\n",
            "[164]\tTrain-mlogloss:0.19280\tTest-mlogloss:0.37870\n",
            "[165]\tTrain-mlogloss:0.19190\tTest-mlogloss:0.37864\n",
            "[166]\tTrain-mlogloss:0.19120\tTest-mlogloss:0.37866\n",
            "[167]\tTrain-mlogloss:0.19048\tTest-mlogloss:0.37863\n",
            "[168]\tTrain-mlogloss:0.18970\tTest-mlogloss:0.37859\n",
            "[169]\tTrain-mlogloss:0.18910\tTest-mlogloss:0.37852\n",
            "[170]\tTrain-mlogloss:0.18830\tTest-mlogloss:0.37838\n",
            "[171]\tTrain-mlogloss:0.18762\tTest-mlogloss:0.37832\n",
            "[172]\tTrain-mlogloss:0.18674\tTest-mlogloss:0.37835\n",
            "[173]\tTrain-mlogloss:0.18604\tTest-mlogloss:0.37823\n",
            "[174]\tTrain-mlogloss:0.18532\tTest-mlogloss:0.37828\n",
            "[175]\tTrain-mlogloss:0.18471\tTest-mlogloss:0.37826\n",
            "[176]\tTrain-mlogloss:0.18400\tTest-mlogloss:0.37829\n",
            "[177]\tTrain-mlogloss:0.18337\tTest-mlogloss:0.37829\n",
            "[178]\tTrain-mlogloss:0.18271\tTest-mlogloss:0.37831\n",
            "[179]\tTrain-mlogloss:0.18191\tTest-mlogloss:0.37835\n",
            "[180]\tTrain-mlogloss:0.18109\tTest-mlogloss:0.37838\n",
            "[181]\tTrain-mlogloss:0.18045\tTest-mlogloss:0.37841\n",
            "[182]\tTrain-mlogloss:0.17976\tTest-mlogloss:0.37829\n",
            "[183]\tTrain-mlogloss:0.17908\tTest-mlogloss:0.37828\n"
          ]
        }
      ],
      "source": [
        "\n",
        "\n",
        "model = xgb.train(\n",
        "    params,\n",
        "    dtrain,\n",
        "    num_boost_round=num_boost_round,\n",
        "    evals=evals,\n",
        "    early_stopping_rounds=early_stopping\n",
        ")\n"
      ]
    },
    {
      "cell_type": "code",
      "execution_count": 85,
      "metadata": {},
      "outputs": [],
      "source": [
        "# save model using booster\n",
        "model.save_model('xgb.json')"
      ]
    },
    {
      "cell_type": "code",
      "execution_count": 4,
      "metadata": {},
      "outputs": [],
      "source": [
        "# load model using booster\n",
        "model = xgb.Booster({'nthread': 4})  # init model\n",
        "model.load_model('xgb.json')  # load data"
      ]
    },
    {
      "cell_type": "code",
      "execution_count": 5,
      "metadata": {},
      "outputs": [],
      "source": [
        "# convert to list\n",
        "model_columns = list(model.feature_names)"
      ]
    },
    {
      "cell_type": "code",
      "execution_count": 88,
      "metadata": {
        "collapsed": true,
        "id": "gtWMhcIKIfAb"
      },
      "outputs": [],
      "source": [
        "# Making predictions of Test Set\n",
        "X_test1 = df_test.drop(columns=['ID'])\n",
        "\n",
        "# reindexing the columns, Change the order of final_test to match the order of the model\n",
        "final_test = xgb.DMatrix(X_test1.reindex(columns=model_columns))\n",
        "\n",
        "pred_prob = model.predict(final_test, ntree_limit=159)\n"
      ]
    },
    {
      "cell_type": "code",
      "execution_count": 89,
      "metadata": {},
      "outputs": [],
      "source": [
        "# save predictions to file\n",
        "pred_prob_file = pd.DataFrame(pred_prob)"
      ]
    },
    {
      "cell_type": "code",
      "execution_count": 90,
      "metadata": {},
      "outputs": [],
      "source": [
        "pred_prob_file.to_csv('pred_prob_file.csv', index=False)"
      ]
    },
    {
      "cell_type": "code",
      "execution_count": 91,
      "metadata": {
        "collapsed": true,
        "id": "puGpj6-kIfAf"
      },
      "outputs": [],
      "source": [
        "def submission(predict_prob, classes, df_test):\n",
        "    ''' Creates Submission Files from \n",
        "        Probability Outputs, Product names list and \n",
        "        Test file for ID and existing product Extraction'''\n",
        "\n",
        "    # ID Counter\n",
        "    counter = 0\n",
        "    # Output dictionary\n",
        "    output = {'ID X PCODE': [], 'Label': []}\n",
        "\n",
        "    # Iterating over ID values in test data\n",
        "    for idd in df_test['ID'].values:\n",
        "        # Iterating over all probabilities per row\n",
        "        for i, prob in enumerate(predict_prob[counter]):\n",
        "            # Setting product name\n",
        "            product_name = classes[i]\n",
        "            # Checking if current ID already has product, and set prob = 1 if so\n",
        "            if df_test.loc[df_test['ID'] == idd, product_name].values[0] == 1:\n",
        "                prob = 1\n",
        "            output['ID X PCODE'] = output['ID X PCODE'] + \\\n",
        "                [str(idd) + \" X \" + str(product_name)]\n",
        "            output['Label'] = output['Label'] + [prob]\n",
        "        counter += 1\n",
        "    return output\n"
      ]
    },
    {
      "cell_type": "code",
      "execution_count": 92,
      "metadata": {},
      "outputs": [],
      "source": [
        "output = submission(pred_prob, product_cols, df_test)"
      ]
    },
    {
      "cell_type": "code",
      "execution_count": 93,
      "metadata": {
        "collapsed": true,
        "id": "yXpDgLv6IfAk"
      },
      "outputs": [],
      "source": [
        "df_submission = pd.DataFrame.from_dict(output)\n"
      ]
    },
    {
      "cell_type": "code",
      "execution_count": 94,
      "metadata": {},
      "outputs": [],
      "source": [
        "df_submission.to_csv(\"data/Predictions.csv\", index=False)"
      ]
    },
    {
      "cell_type": "code",
      "execution_count": 6,
      "metadata": {
        "colab": {
          "base_uri": "https://localhost:8080/",
          "height": 1000
        },
        "id": "u22wPUk7IfAo",
        "outputId": "30399a29-2250-4fb1-80b9-11439dde2bc7"
      },
      "outputs": [],
      "source": [
        "id_x_pcode = pd.read_csv(\"data/Predictions.csv\")\n"
      ]
    },
    {
      "cell_type": "code",
      "execution_count": 7,
      "metadata": {},
      "outputs": [],
      "source": [
        "# split ID and PCODE from ID X PCODE and make a new dataframe\n",
        "id_x_pcode[['ID', 'PCODE']] = id_x_pcode['ID X PCODE'].str.split(' X ', expand=True)"
      ]
    },
    {
      "cell_type": "code",
      "execution_count": 8,
      "metadata": {},
      "outputs": [],
      "source": [
        "# remove ID X PCODE column and change the order of columns as ID, PCODE, Label\n",
        "id_x_pcode = id_x_pcode[['ID', 'PCODE', 'Label']]"
      ]
    },
    {
      "cell_type": "code",
      "execution_count": 9,
      "metadata": {},
      "outputs": [],
      "source": [
        "# save the dataframe to csv file\n",
        "id_x_pcode.to_csv(\"data/id_pcode_label.csv\", index=False)"
      ]
    },
    {
      "cell_type": "code",
      "execution_count": 10,
      "metadata": {},
      "outputs": [],
      "source": [
        "# read the csv file\n",
        "id_pcode_label = pd.read_csv(\"data/id_pcode_label.csv\")"
      ]
    },
    {
      "cell_type": "code",
      "execution_count": 11,
      "metadata": {},
      "outputs": [
        {
          "data": {
            "text/html": [
              "<div>\n",
              "<style scoped>\n",
              "    .dataframe tbody tr th:only-of-type {\n",
              "        vertical-align: middle;\n",
              "    }\n",
              "\n",
              "    .dataframe tbody tr th {\n",
              "        vertical-align: top;\n",
              "    }\n",
              "\n",
              "    .dataframe thead th {\n",
              "        text-align: right;\n",
              "    }\n",
              "</style>\n",
              "<table border=\"1\" class=\"dataframe\">\n",
              "  <thead>\n",
              "    <tr style=\"text-align: right;\">\n",
              "      <th></th>\n",
              "      <th>ID</th>\n",
              "      <th>PCODE</th>\n",
              "      <th>Label</th>\n",
              "    </tr>\n",
              "  </thead>\n",
              "  <tbody>\n",
              "    <tr>\n",
              "      <th>0</th>\n",
              "      <td>F86J5PC</td>\n",
              "      <td>P5DA</td>\n",
              "      <td>0.000020</td>\n",
              "    </tr>\n",
              "    <tr>\n",
              "      <th>1</th>\n",
              "      <td>F86J5PC</td>\n",
              "      <td>RIBP</td>\n",
              "      <td>0.000167</td>\n",
              "    </tr>\n",
              "    <tr>\n",
              "      <th>2</th>\n",
              "      <td>F86J5PC</td>\n",
              "      <td>8NN1</td>\n",
              "      <td>0.000014</td>\n",
              "    </tr>\n",
              "    <tr>\n",
              "      <th>3</th>\n",
              "      <td>F86J5PC</td>\n",
              "      <td>7POT</td>\n",
              "      <td>0.000099</td>\n",
              "    </tr>\n",
              "    <tr>\n",
              "      <th>4</th>\n",
              "      <td>F86J5PC</td>\n",
              "      <td>66FJ</td>\n",
              "      <td>0.000116</td>\n",
              "    </tr>\n",
              "    <tr>\n",
              "      <th>5</th>\n",
              "      <td>F86J5PC</td>\n",
              "      <td>GYSR</td>\n",
              "      <td>0.000021</td>\n",
              "    </tr>\n",
              "    <tr>\n",
              "      <th>6</th>\n",
              "      <td>F86J5PC</td>\n",
              "      <td>SOP4</td>\n",
              "      <td>0.000081</td>\n",
              "    </tr>\n",
              "    <tr>\n",
              "      <th>7</th>\n",
              "      <td>F86J5PC</td>\n",
              "      <td>RVSZ</td>\n",
              "      <td>1.000000</td>\n",
              "    </tr>\n",
              "    <tr>\n",
              "      <th>8</th>\n",
              "      <td>F86J5PC</td>\n",
              "      <td>PYUQ</td>\n",
              "      <td>0.000769</td>\n",
              "    </tr>\n",
              "    <tr>\n",
              "      <th>9</th>\n",
              "      <td>F86J5PC</td>\n",
              "      <td>LJR9</td>\n",
              "      <td>0.000031</td>\n",
              "    </tr>\n",
              "    <tr>\n",
              "      <th>10</th>\n",
              "      <td>F86J5PC</td>\n",
              "      <td>N2MW</td>\n",
              "      <td>0.000114</td>\n",
              "    </tr>\n",
              "    <tr>\n",
              "      <th>11</th>\n",
              "      <td>F86J5PC</td>\n",
              "      <td>AHXO</td>\n",
              "      <td>0.000042</td>\n",
              "    </tr>\n",
              "    <tr>\n",
              "      <th>12</th>\n",
              "      <td>F86J5PC</td>\n",
              "      <td>BSTQ</td>\n",
              "      <td>0.000013</td>\n",
              "    </tr>\n",
              "    <tr>\n",
              "      <th>13</th>\n",
              "      <td>F86J5PC</td>\n",
              "      <td>FM3X</td>\n",
              "      <td>0.000026</td>\n",
              "    </tr>\n",
              "    <tr>\n",
              "      <th>14</th>\n",
              "      <td>F86J5PC</td>\n",
              "      <td>K6QO</td>\n",
              "      <td>0.987879</td>\n",
              "    </tr>\n",
              "    <tr>\n",
              "      <th>15</th>\n",
              "      <td>F86J5PC</td>\n",
              "      <td>QBOL</td>\n",
              "      <td>0.006938</td>\n",
              "    </tr>\n",
              "    <tr>\n",
              "      <th>16</th>\n",
              "      <td>F86J5PC</td>\n",
              "      <td>JWFN</td>\n",
              "      <td>0.000041</td>\n",
              "    </tr>\n",
              "    <tr>\n",
              "      <th>17</th>\n",
              "      <td>F86J5PC</td>\n",
              "      <td>JZ9D</td>\n",
              "      <td>0.000014</td>\n",
              "    </tr>\n",
              "    <tr>\n",
              "      <th>18</th>\n",
              "      <td>F86J5PC</td>\n",
              "      <td>J9JW</td>\n",
              "      <td>0.000023</td>\n",
              "    </tr>\n",
              "    <tr>\n",
              "      <th>19</th>\n",
              "      <td>F86J5PC</td>\n",
              "      <td>GHYX</td>\n",
              "      <td>0.002401</td>\n",
              "    </tr>\n",
              "    <tr>\n",
              "      <th>20</th>\n",
              "      <td>F86J5PC</td>\n",
              "      <td>ECY3</td>\n",
              "      <td>0.001148</td>\n",
              "    </tr>\n",
              "    <tr>\n",
              "      <th>21</th>\n",
              "      <td>H6141K3</td>\n",
              "      <td>P5DA</td>\n",
              "      <td>0.001406</td>\n",
              "    </tr>\n",
              "    <tr>\n",
              "      <th>22</th>\n",
              "      <td>H6141K3</td>\n",
              "      <td>RIBP</td>\n",
              "      <td>0.002045</td>\n",
              "    </tr>\n",
              "    <tr>\n",
              "      <th>23</th>\n",
              "      <td>H6141K3</td>\n",
              "      <td>8NN1</td>\n",
              "      <td>0.000501</td>\n",
              "    </tr>\n",
              "    <tr>\n",
              "      <th>24</th>\n",
              "      <td>H6141K3</td>\n",
              "      <td>7POT</td>\n",
              "      <td>0.001335</td>\n",
              "    </tr>\n",
              "    <tr>\n",
              "      <th>25</th>\n",
              "      <td>H6141K3</td>\n",
              "      <td>66FJ</td>\n",
              "      <td>0.000891</td>\n",
              "    </tr>\n",
              "    <tr>\n",
              "      <th>26</th>\n",
              "      <td>H6141K3</td>\n",
              "      <td>GYSR</td>\n",
              "      <td>0.000259</td>\n",
              "    </tr>\n",
              "    <tr>\n",
              "      <th>27</th>\n",
              "      <td>H6141K3</td>\n",
              "      <td>SOP4</td>\n",
              "      <td>0.001467</td>\n",
              "    </tr>\n",
              "    <tr>\n",
              "      <th>28</th>\n",
              "      <td>H6141K3</td>\n",
              "      <td>RVSZ</td>\n",
              "      <td>1.000000</td>\n",
              "    </tr>\n",
              "    <tr>\n",
              "      <th>29</th>\n",
              "      <td>H6141K3</td>\n",
              "      <td>PYUQ</td>\n",
              "      <td>0.002224</td>\n",
              "    </tr>\n",
              "    <tr>\n",
              "      <th>30</th>\n",
              "      <td>H6141K3</td>\n",
              "      <td>LJR9</td>\n",
              "      <td>0.000576</td>\n",
              "    </tr>\n",
              "    <tr>\n",
              "      <th>31</th>\n",
              "      <td>H6141K3</td>\n",
              "      <td>N2MW</td>\n",
              "      <td>0.002347</td>\n",
              "    </tr>\n",
              "    <tr>\n",
              "      <th>32</th>\n",
              "      <td>H6141K3</td>\n",
              "      <td>AHXO</td>\n",
              "      <td>0.001381</td>\n",
              "    </tr>\n",
              "    <tr>\n",
              "      <th>33</th>\n",
              "      <td>H6141K3</td>\n",
              "      <td>BSTQ</td>\n",
              "      <td>0.000229</td>\n",
              "    </tr>\n",
              "    <tr>\n",
              "      <th>34</th>\n",
              "      <td>H6141K3</td>\n",
              "      <td>FM3X</td>\n",
              "      <td>0.000541</td>\n",
              "    </tr>\n",
              "    <tr>\n",
              "      <th>35</th>\n",
              "      <td>H6141K3</td>\n",
              "      <td>K6QO</td>\n",
              "      <td>1.000000</td>\n",
              "    </tr>\n",
              "    <tr>\n",
              "      <th>36</th>\n",
              "      <td>H6141K3</td>\n",
              "      <td>QBOL</td>\n",
              "      <td>0.531782</td>\n",
              "    </tr>\n",
              "    <tr>\n",
              "      <th>37</th>\n",
              "      <td>H6141K3</td>\n",
              "      <td>JWFN</td>\n",
              "      <td>0.030746</td>\n",
              "    </tr>\n",
              "    <tr>\n",
              "      <th>38</th>\n",
              "      <td>H6141K3</td>\n",
              "      <td>JZ9D</td>\n",
              "      <td>0.000122</td>\n",
              "    </tr>\n",
              "    <tr>\n",
              "      <th>39</th>\n",
              "      <td>H6141K3</td>\n",
              "      <td>J9JW</td>\n",
              "      <td>0.000144</td>\n",
              "    </tr>\n",
              "    <tr>\n",
              "      <th>40</th>\n",
              "      <td>H6141K3</td>\n",
              "      <td>GHYX</td>\n",
              "      <td>0.352139</td>\n",
              "    </tr>\n",
              "    <tr>\n",
              "      <th>41</th>\n",
              "      <td>H6141K3</td>\n",
              "      <td>ECY3</td>\n",
              "      <td>0.067446</td>\n",
              "    </tr>\n",
              "    <tr>\n",
              "      <th>42</th>\n",
              "      <td>RBAYUXZ</td>\n",
              "      <td>P5DA</td>\n",
              "      <td>0.001203</td>\n",
              "    </tr>\n",
              "    <tr>\n",
              "      <th>43</th>\n",
              "      <td>RBAYUXZ</td>\n",
              "      <td>RIBP</td>\n",
              "      <td>0.001691</td>\n",
              "    </tr>\n",
              "    <tr>\n",
              "      <th>44</th>\n",
              "      <td>RBAYUXZ</td>\n",
              "      <td>8NN1</td>\n",
              "      <td>0.009505</td>\n",
              "    </tr>\n",
              "    <tr>\n",
              "      <th>45</th>\n",
              "      <td>RBAYUXZ</td>\n",
              "      <td>7POT</td>\n",
              "      <td>0.001554</td>\n",
              "    </tr>\n",
              "    <tr>\n",
              "      <th>46</th>\n",
              "      <td>RBAYUXZ</td>\n",
              "      <td>66FJ</td>\n",
              "      <td>0.003610</td>\n",
              "    </tr>\n",
              "    <tr>\n",
              "      <th>47</th>\n",
              "      <td>RBAYUXZ</td>\n",
              "      <td>GYSR</td>\n",
              "      <td>0.000088</td>\n",
              "    </tr>\n",
              "    <tr>\n",
              "      <th>48</th>\n",
              "      <td>RBAYUXZ</td>\n",
              "      <td>SOP4</td>\n",
              "      <td>0.004280</td>\n",
              "    </tr>\n",
              "    <tr>\n",
              "      <th>49</th>\n",
              "      <td>RBAYUXZ</td>\n",
              "      <td>RVSZ</td>\n",
              "      <td>1.000000</td>\n",
              "    </tr>\n",
              "  </tbody>\n",
              "</table>\n",
              "</div>"
            ],
            "text/plain": [
              "         ID PCODE     Label\n",
              "0   F86J5PC  P5DA  0.000020\n",
              "1   F86J5PC  RIBP  0.000167\n",
              "2   F86J5PC  8NN1  0.000014\n",
              "3   F86J5PC  7POT  0.000099\n",
              "4   F86J5PC  66FJ  0.000116\n",
              "5   F86J5PC  GYSR  0.000021\n",
              "6   F86J5PC  SOP4  0.000081\n",
              "7   F86J5PC  RVSZ  1.000000\n",
              "8   F86J5PC  PYUQ  0.000769\n",
              "9   F86J5PC  LJR9  0.000031\n",
              "10  F86J5PC  N2MW  0.000114\n",
              "11  F86J5PC  AHXO  0.000042\n",
              "12  F86J5PC  BSTQ  0.000013\n",
              "13  F86J5PC  FM3X  0.000026\n",
              "14  F86J5PC  K6QO  0.987879\n",
              "15  F86J5PC  QBOL  0.006938\n",
              "16  F86J5PC  JWFN  0.000041\n",
              "17  F86J5PC  JZ9D  0.000014\n",
              "18  F86J5PC  J9JW  0.000023\n",
              "19  F86J5PC  GHYX  0.002401\n",
              "20  F86J5PC  ECY3  0.001148\n",
              "21  H6141K3  P5DA  0.001406\n",
              "22  H6141K3  RIBP  0.002045\n",
              "23  H6141K3  8NN1  0.000501\n",
              "24  H6141K3  7POT  0.001335\n",
              "25  H6141K3  66FJ  0.000891\n",
              "26  H6141K3  GYSR  0.000259\n",
              "27  H6141K3  SOP4  0.001467\n",
              "28  H6141K3  RVSZ  1.000000\n",
              "29  H6141K3  PYUQ  0.002224\n",
              "30  H6141K3  LJR9  0.000576\n",
              "31  H6141K3  N2MW  0.002347\n",
              "32  H6141K3  AHXO  0.001381\n",
              "33  H6141K3  BSTQ  0.000229\n",
              "34  H6141K3  FM3X  0.000541\n",
              "35  H6141K3  K6QO  1.000000\n",
              "36  H6141K3  QBOL  0.531782\n",
              "37  H6141K3  JWFN  0.030746\n",
              "38  H6141K3  JZ9D  0.000122\n",
              "39  H6141K3  J9JW  0.000144\n",
              "40  H6141K3  GHYX  0.352139\n",
              "41  H6141K3  ECY3  0.067446\n",
              "42  RBAYUXZ  P5DA  0.001203\n",
              "43  RBAYUXZ  RIBP  0.001691\n",
              "44  RBAYUXZ  8NN1  0.009505\n",
              "45  RBAYUXZ  7POT  0.001554\n",
              "46  RBAYUXZ  66FJ  0.003610\n",
              "47  RBAYUXZ  GYSR  0.000088\n",
              "48  RBAYUXZ  SOP4  0.004280\n",
              "49  RBAYUXZ  RVSZ  1.000000"
            ]
          },
          "execution_count": 11,
          "metadata": {},
          "output_type": "execute_result"
        }
      ],
      "source": [
        "id_pcode_label.head(50)"
      ]
    },
    {
      "cell_type": "code",
      "execution_count": 14,
      "metadata": {},
      "outputs": [],
      "source": [
        "# create a new dictionary with for unique ID as key, PCODE and Label as values\n",
        "id_pcode_label_dict = {}\n",
        "\n",
        "for i in range(len(id_pcode_label)):\n",
        "    if id_pcode_label['ID'][i] not in id_pcode_label_dict:\n",
        "        id_pcode_label_dict[id_pcode_label['ID'][i]] = [(id_pcode_label['PCODE'][i], id_pcode_label['Label'][i])]\n",
        "    else:\n",
        "        id_pcode_label_dict[id_pcode_label['ID'][i]].append((id_pcode_label['PCODE'][i], id_pcode_label['Label'][i]))\n",
        "\n",
        "# create a new dictionary with for unique ID as key, PCODE and Label as values"
      ]
    },
    {
      "cell_type": "code",
      "execution_count": 17,
      "metadata": {},
      "outputs": [
        {
          "data": {
            "text/plain": [
              "[('P5DA', 1.974434962903615e-05),\n",
              " ('RIBP', 0.0001672404323471),\n",
              " ('8NN1', 1.3940351891505998e-05),\n",
              " ('7POT', 9.93616704363376e-05),\n",
              " ('66FJ', 0.0001161444015451),\n",
              " ('GYSR', 2.1167832528590225e-05),\n",
              " ('SOP4', 8.105309825623408e-05),\n",
              " ('RVSZ', 1.0),\n",
              " ('PYUQ', 0.0007689271587878),\n",
              " ('LJR9', 3.119837128906511e-05),\n",
              " ('N2MW', 0.0001138712541433),\n",
              " ('AHXO', 4.165036443737336e-05),\n",
              " ('BSTQ', 1.3201090951042715e-05),\n",
              " ('FM3X', 2.6183717636740766e-05),\n",
              " ('K6QO', 0.9878787398338318),\n",
              " ('QBOL', 0.0069380053319036),\n",
              " ('JWFN', 4.1324503399664536e-05),\n",
              " ('JZ9D', 1.3565472727350423e-05),\n",
              " ('J9JW', 2.2813899704487994e-05),\n",
              " ('GHYX', 0.0024009251501411),\n",
              " ('ECY3', 0.0011482604313641)]"
            ]
          },
          "execution_count": 17,
          "metadata": {},
          "output_type": "execute_result"
        }
      ],
      "source": [
        "id_pcode_label_dict['F86J5PC']"
      ]
    },
    {
      "cell_type": "code",
      "execution_count": 56,
      "metadata": {},
      "outputs": [
        {
          "data": {
            "text/plain": [
              "[('RVSZ', 1.0),\n",
              " ('K6QO', 0.9878787398338318),\n",
              " ('QBOL', 0.0069380053319036),\n",
              " ('GHYX', 0.0024009251501411),\n",
              " ('ECY3', 0.0011482604313641),\n",
              " ('PYUQ', 0.0007689271587878),\n",
              " ('RIBP', 0.0001672404323471),\n",
              " ('66FJ', 0.0001161444015451),\n",
              " ('N2MW', 0.0001138712541433),\n",
              " ('7POT', 9.93616704363376e-05),\n",
              " ('SOP4', 8.105309825623408e-05),\n",
              " ('AHXO', 4.165036443737336e-05),\n",
              " ('JWFN', 4.1324503399664536e-05),\n",
              " ('LJR9', 3.119837128906511e-05),\n",
              " ('FM3X', 2.6183717636740766e-05),\n",
              " ('J9JW', 2.2813899704487994e-05),\n",
              " ('GYSR', 2.1167832528590225e-05),\n",
              " ('P5DA', 1.974434962903615e-05),\n",
              " ('8NN1', 1.3940351891505998e-05),\n",
              " ('JZ9D', 1.3565472727350423e-05),\n",
              " ('BSTQ', 1.3201090951042715e-05)]"
            ]
          },
          "execution_count": 56,
          "metadata": {},
          "output_type": "execute_result"
        }
      ],
      "source": [
        "# convert key and values to list and sort the values by Label in descending order\n",
        "id_pcode_label_dict = {k: sorted(v, key=lambda x: x[1], reverse=True) for k, v in id_pcode_label_dict.items()}\n",
        "id_pcode_label_dict['F86J5PC']"
      ]
    },
    {
      "cell_type": "code",
      "execution_count": 32,
      "metadata": {},
      "outputs": [],
      "source": [
        "# save id_pcode_label_dict as csv file\n",
        "id_pcode_label_dict_df = pd.DataFrame.from_dict(id_pcode_label_dict, orient='index')\n",
        "\n",
        "id_pcode_label_dict_df.to_csv(\"data/id_pcode_label_dict.csv\")"
      ]
    },
    {
      "cell_type": "code",
      "execution_count": 60,
      "metadata": {},
      "outputs": [],
      "source": [
        "# read the csv file\n",
        "id_pcode_label_dict_df_read = pd.read_csv(\"data/id_pcode_label_dict.csv\")\n",
        "# convert the dataframe to dictionary\n",
        "id_pcode_label_dict_df_read = id_pcode_label_dict_df_read.set_index('Unnamed: 0').T.to_dict('list')\n"
      ]
    },
    {
      "cell_type": "code",
      "execution_count": 62,
      "metadata": {},
      "outputs": [
        {
          "data": {
            "text/plain": [
              "[\"('RVSZ', 1.0)\",\n",
              " \"('K6QO', 0.9878787398338318)\",\n",
              " \"('QBOL', 0.0069380053319036)\",\n",
              " \"('GHYX', 0.0024009251501411)\",\n",
              " \"('ECY3', 0.0011482604313641)\"]"
            ]
          },
          "execution_count": 62,
          "metadata": {},
          "output_type": "execute_result"
        }
      ],
      "source": [
        "# function for given a key, print top 5 values with highest probability except probablity = 1\n",
        "\n",
        "def top_5(key):\n",
        "    # sort the list of tuples by second element in descending order\n",
        "    id_pcode_label_dict_df_read[key].sort(key=lambda x: x[1], reverse=True)\n",
        "    # create a new list to store the top 5 values\n",
        "    top_5_list = []\n",
        "    # iterate over the list of tuples\n",
        "    for i in range(len(id_pcode_label_dict_df_read[key])):\n",
        "        # if the probability is not 1, append the tuple to the list\n",
        "        if id_pcode_label_dict_df_read[key][i][1] != 1:\n",
        "            top_5_list.append(id_pcode_label_dict_df_read[key][i])\n",
        "        # if the length of the list is 5, break the loop\n",
        "        if len(top_5_list) == 5:\n",
        "            break\n",
        "    return top_5_list\n",
        "\n",
        "# def top_5_values(key):\n",
        "#     return sorted(id_pcode_label_dict[key], key=lambda x: x[1], reverse=True)[:5]\n",
        "\n",
        "top_5('F86J5PC')"
      ]
    },
    {
      "cell_type": "code",
      "execution_count": 64,
      "metadata": {},
      "outputs": [
        {
          "name": "stdout",
          "output_type": "stream",
          "text": [
            "Top 5 values for ID = H6141K3\n",
            "PCODE    Label\n",
            " QBOL 0.531782\n",
            " GHYX 0.352139\n",
            " ECY3 0.067446\n",
            " JWFN 0.030746\n",
            " N2MW 0.002347\n",
            "Label = 1 values for ID = H6141K3\n",
            "PCODE  Label\n",
            " RVSZ    1.0\n",
            " K6QO    1.0\n"
          ]
        }
      ],
      "source": [
        "# function for given a key, print top 5 values with highest probability except probablity = 1 in a table. And label = 1 in another table format. don't print index.\n",
        "\n",
        "def top_5_table(key):\n",
        "    # sort the list of tuples by second element in descending order\n",
        "    id_pcode_label_dict[key].sort(key=lambda x: x[1], reverse=True)\n",
        "    # create a new list to store the top 5 values\n",
        "    top_5_list = []\n",
        "    # create a new list to store the label = 1 values\n",
        "    label_1_list = []\n",
        "    # iterate over the list of tuples\n",
        "    for i in range(len(id_pcode_label_dict[key])):\n",
        "        # if the probability is not 1, append the tuple to the list\n",
        "        if id_pcode_label_dict[key][i][1] != 1:\n",
        "            top_5_list.append(id_pcode_label_dict[key][i])\n",
        "        # if the probability is 1, append the tuple to the list\n",
        "        if id_pcode_label_dict[key][i][1] == 1:\n",
        "            label_1_list.append(id_pcode_label_dict[key][i])\n",
        "        # if the length of the list is 5, break the loop\n",
        "        if len(top_5_list) == 5:\n",
        "            break\n",
        "    # create a new dataframe for top 5 values\n",
        "    top_5_df = pd.DataFrame(top_5_list, columns=['PCODE', 'Label'])\n",
        "    # create a new dataframe for label = 1 values\n",
        "    label_1_df = pd.DataFrame(label_1_list, columns=['PCODE', 'Label'])\n",
        "    # create a new dataframe for top 5 values\n",
        "    top_5_df = pd.DataFrame(top_5_list, columns=['PCODE', 'Label'])\n",
        "    # create a new dataframe for label = 1 values\n",
        "    label_1_df = pd.DataFrame(label_1_list, columns=['PCODE', 'Label'])\n",
        "    # print the top 5 values in a table format\n",
        "    print('Top 5 values for ID =', key)\n",
        "    print(top_5_df.to_string(index=False))\n",
        "    # print the label = 1 values in a table format\n",
        "    print('Label = 1 values for ID =', key)\n",
        "    print(label_1_df.to_string(index=False))\n",
        "    \n",
        "\n",
        "top_5_table('H6141K3')\n"
      ]
    },
    {
      "cell_type": "code",
      "execution_count": 28,
      "metadata": {},
      "outputs": [],
      "source": [
        "# function for each key, print top 5 values with highest probability except probablity = 1\n",
        "\n",
        "def top_5_values():\n",
        "    # create a new dictionary to store the top 5 values\n",
        "    top_5_dict = {}\n",
        "    # iterate over the keys in the dictionary\n",
        "    for key in id_pcode_label_dict:\n",
        "        # sort the list of tuples by second element in descending order\n",
        "        id_pcode_label_dict[key].sort(key=lambda x: x[1], reverse=True)\n",
        "        # create a new list to store the top 5 values\n",
        "        top_5_list = []\n",
        "        # iterate over the list of tuples\n",
        "        for i in range(len(id_pcode_label_dict[key])):\n",
        "            # if the probability is not 1, append the tuple to the list\n",
        "            if id_pcode_label_dict[key][i][1] != 1:\n",
        "                top_5_list.append(id_pcode_label_dict[key][i])\n",
        "            # if the length of the list is 5, break the loop\n",
        "            if len(top_5_list) == 5:\n",
        "                break\n",
        "        # set the key and value in the dictionary\n",
        "        top_5_dict[key] = top_5_list\n",
        "    return top_5_dict\n",
        "\n",
        "top_5_dict = top_5_values()"
      ]
    },
    {
      "cell_type": "code",
      "execution_count": 30,
      "metadata": {},
      "outputs": [],
      "source": [
        "# save top_5_dict as a csv file\n",
        "top_5_dict_df = pd.DataFrame.from_dict(top_5_dict, orient='index')\n",
        "top_5_dict_df.to_csv(\"data/top_5_dict.csv\")"
      ]
    },
    {
      "cell_type": "code",
      "execution_count": 31,
      "metadata": {},
      "outputs": [],
      "source": [
        "# read the csv file\n",
        "top_5_dict_df_read = pd.read_csv(\"data/top_5_dict.csv\")"
      ]
    },
    {
      "cell_type": "code",
      "execution_count": null,
      "metadata": {},
      "outputs": [],
      "source": []
    },
    {
      "cell_type": "code",
      "execution_count": 12,
      "metadata": {},
      "outputs": [],
      "source": [
        "# for each ID print the 5 max labels except the ones with Label = 1\n",
        "for idd in id_pcode_label['ID'].unique():\n",
        "    id_pcode_top5=id_pcode_label.loc[(id_pcode_label['ID'] == idd) & (id_pcode_label['Label'] != 1)].sort_values(by=['Label'], ascending=False)\n",
        "\n",
        "# id_pcode_top5=id_pcode_label.groupby('ID').apply(lambda x: x.nlargest(5, 'Label')).reset_index(drop=True)"
      ]
    },
    {
      "cell_type": "code",
      "execution_count": 102,
      "metadata": {},
      "outputs": [],
      "source": [
        "# save the dataframe to csv file\n",
        "id_pcode_top5.to_csv(\"data/id_pcode_top5.csv\", index=False)"
      ]
    },
    {
      "cell_type": "code",
      "execution_count": 3,
      "metadata": {},
      "outputs": [],
      "source": [
        "# read the csv file\n",
        "id_pcode_top5_read = pd.read_csv(\"data/id_pcode_top5.csv\")"
      ]
    },
    {
      "cell_type": "code",
      "execution_count": 13,
      "metadata": {},
      "outputs": [
        {
          "ename": "NameError",
          "evalue": "name 'id_pcode_top5_read' is not defined",
          "output_type": "error",
          "traceback": [
            "\u001b[1;31m---------------------------------------------------------------------------\u001b[0m",
            "\u001b[1;31mNameError\u001b[0m                                 Traceback (most recent call last)",
            "\u001b[1;32mc:\\Users\\EI12753\\Documents\\VS-Code\\GitHub\\TietoEvry\\Zimnat_Insurance_Recommendation_Challenge\\XGBoost.ipynb Cell 38\u001b[0m in \u001b[0;36m<cell line: 2>\u001b[1;34m()\u001b[0m\n\u001b[0;32m      <a href='vscode-notebook-cell:/c%3A/Users/EI12753/Documents/VS-Code/GitHub/TietoEvry/Zimnat_Insurance_Recommendation_Challenge/XGBoost.ipynb#X61sZmlsZQ%3D%3D?line=0'>1</a>\u001b[0m \u001b[39m# print top5 labels for F86J5PC\u001b[39;00m\n\u001b[1;32m----> <a href='vscode-notebook-cell:/c%3A/Users/EI12753/Documents/VS-Code/GitHub/TietoEvry/Zimnat_Insurance_Recommendation_Challenge/XGBoost.ipynb#X61sZmlsZQ%3D%3D?line=1'>2</a>\u001b[0m id_pcode_top5_read\u001b[39m.\u001b[39mloc[id_pcode_top5_read[\u001b[39m'\u001b[39m\u001b[39mID\u001b[39m\u001b[39m'\u001b[39m] \u001b[39m==\u001b[39m \u001b[39m'\u001b[39m\u001b[39mF86J5PC\u001b[39m\u001b[39m'\u001b[39m]\n",
            "\u001b[1;31mNameError\u001b[0m: name 'id_pcode_top5_read' is not defined"
          ]
        }
      ],
      "source": [
        "# print top5 labels for F86J5PC\n",
        "id_pcode_top5_read.loc[id_pcode_top5_read['ID'] == 'F86J5PC']"
      ]
    },
    {
      "cell_type": "code",
      "execution_count": 103,
      "metadata": {},
      "outputs": [],
      "source": [
        "# for each ID print the all Labels where Label = 1\n",
        "for idd in id_pcode_label['ID'].unique():\n",
        "    id_pcode_exist_prod=id_pcode_label.loc[(id_pcode_label['ID'] == idd) & (id_pcode_label['Label'] == 1)].sort_values(by=['Label'], ascending=False)"
      ]
    },
    {
      "cell_type": "code",
      "execution_count": 104,
      "metadata": {},
      "outputs": [],
      "source": [
        "# save the dataframe to csv file\n",
        "id_pcode_exist_prod.to_csv(\"data/id_pcode_exist_prod.csv\", index=False)"
      ]
    },
    {
      "cell_type": "code",
      "execution_count": 105,
      "metadata": {},
      "outputs": [],
      "source": [
        "# read the csv file\n",
        "id_pcode_exist_prod_read = pd.read_csv(\"data/id_pcode_exist_prod.csv\")"
      ]
    },
    {
      "cell_type": "code",
      "execution_count": 106,
      "metadata": {},
      "outputs": [],
      "source": [
        "# For user input ID print the top 5 products and existing products\n",
        "def top5_products(id):\n",
        "    print(\"Top 5 Products for ID: \", id)\n",
        "    print(id_pcode_top5_read.loc[id_pcode_top5_read['ID'] == id])\n",
        "    print(\"Existing Products for ID: \", id)\n",
        "    print(id_pcode_exist_prod_read.loc[id_pcode_exist_prod_read['ID'] == id])"
      ]
    },
    {
      "cell_type": "code",
      "execution_count": 107,
      "metadata": {},
      "outputs": [],
      "source": [
        "# input the ID and print the top 5 labels and the labels where Label = 1\n",
        "input_id = input(\"Enter ID: \")\n",
        "top5_products(input_id)"
      ]
    },
    {
      "cell_type": "code",
      "execution_count": null,
      "metadata": {},
      "outputs": [],
      "source": []
    }
  ],
  "metadata": {
    "accelerator": "GPU",
    "colab": {
      "collapsed_sections": [],
      "name": "XGBoost - 0.379144logloss .ipynb",
      "provenance": []
    },
    "kernelspec": {
      "display_name": "Python 3.9.12 ('base')",
      "language": "python",
      "name": "python3"
    },
    "language_info": {
      "codemirror_mode": {
        "name": "ipython",
        "version": 3
      },
      "file_extension": ".py",
      "mimetype": "text/x-python",
      "name": "python",
      "nbconvert_exporter": "python",
      "pygments_lexer": "ipython3",
      "version": "3.9.12"
    },
    "vscode": {
      "interpreter": {
        "hash": "f8dfc8609dd5180df3f92c99aa3a5777dcce9aad48aad7f045d6c2f519bdbe44"
      }
    }
  },
  "nbformat": 4,
  "nbformat_minor": 0
}
