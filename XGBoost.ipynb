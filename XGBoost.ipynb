{
  "cells": [
    {
      "cell_type": "markdown",
      "metadata": {
        "id": "V5eq7ocQtb65"
      },
      "source": [
        "## Zimnat Insurance Product Recommendation Challenge"
      ]
    },
    {
      "cell_type": "code",
      "execution_count": 2,
      "metadata": {},
      "outputs": [
        {
          "name": "stdout",
          "output_type": "stream",
          "text": [
            "Requirement already satisfied: xgboost in /anaconda/envs/azureml_py38/lib/python3.8/site-packages (1.3.3)\n",
            "Requirement already satisfied: numpy in /anaconda/envs/azureml_py38/lib/python3.8/site-packages (from xgboost) (1.21.6)\n",
            "Requirement already satisfied: scipy in /anaconda/envs/azureml_py38/lib/python3.8/site-packages (from xgboost) (1.5.3)\n"
          ]
        }
      ],
      "source": [
        "!pip install xgboost"
      ]
    },
    {
      "cell_type": "code",
      "execution_count": 1,
      "metadata": {
        "colab": {
          "base_uri": "https://localhost:8080/",
          "height": 510
        },
        "id": "0HR1o2xoIe_Q",
        "outputId": "ede91ce9-6e98-4083-a64e-883f8115e77c"
      },
      "outputs": [],
      "source": [
        "# Importing all the Required Libraries\n",
        "\n",
        "from sklearn.metrics import classification_report, accuracy_score, make_scorer, f1_score, log_loss\n",
        "import warnings\n",
        "import xgboost as xgb\n",
        "from sklearn.model_selection import cross_val_score\n",
        "from sklearn.ensemble import RandomForestClassifier\n",
        "import pandas as pd\n",
        "import numpy\n",
        "import matplotlib.pyplot as plt\n",
        "import seaborn as sns\n",
        "import numpy as np\n",
        "%matplotlib inline\n",
        "\n",
        "warnings.filterwarnings('ignore')\n",
        "\n",
        "# Setting Random State\n",
        "RANDOM_STATE = 1\n",
        "np.random.seed(RANDOM_STATE)\n",
        "\n",
        "\n",
        "# Installing optuna - Only for Google Collab Environment\n",
        "#!pip install optuna\n"
      ]
    },
    {
      "cell_type": "code",
      "execution_count": 3,
      "metadata": {
        "collapsed": true,
        "id": "xRCoItheIe_X"
      },
      "outputs": [],
      "source": [
        "# Importing the data to pandas DataFrame\n",
        "df_train = pd.read_csv('Train.csv')\n",
        "df_test = pd.read_csv('Test.csv')\n"
      ]
    },
    {
      "cell_type": "code",
      "execution_count": 4,
      "metadata": {
        "id": "RU93fJnitb7D",
        "outputId": "dd715269-8435-48dd-c43b-318a071f3ae3"
      },
      "outputs": [
        {
          "name": "stdout",
          "output_type": "stream",
          "text": [
            "Training Set dimesions:  (29132, 29)\n",
            "Test Set dimesions:  (10000, 29)\n"
          ]
        }
      ],
      "source": [
        "print(\"Training Set dimesions: \", df_train.shape)\n",
        "print(\"Test Set dimesions: \", df_test.shape)\n"
      ]
    },
    {
      "cell_type": "code",
      "execution_count": 5,
      "metadata": {
        "id": "H1zFOyxttb7E",
        "outputId": "976c1809-12db-4f4d-ac35-650bec77c1ae"
      },
      "outputs": [
        {
          "data": {
            "text/plain": [
              "<matplotlib.axes._subplots.AxesSubplot at 0x7f040d048100>"
            ]
          },
          "execution_count": 5,
          "metadata": {},
          "output_type": "execute_result"
        },
        {
          "data": {
            "image/png": "[encoded data removed]",
            "text/plain": [
              "<Figure size 640x480 with 1 Axes>"
            ]
          },
          "metadata": {},
          "output_type": "display_data"
        }
      ],
      "source": [
        "# Checking for Missing Values\n",
        "df_train['join_date'].value_counts().sort_values(\n",
        "    ascending=False).head(20).plot(kind=\"bar\")\n"
      ]
    },
    {
      "cell_type": "code",
      "execution_count": 6,
      "metadata": {
        "collapsed": true,
        "id": "xWQkTI6HIe_d"
      },
      "outputs": [],
      "source": [
        "# checking for the most common date and imputing by most common\n",
        "df_train['join_date'].fillna(df_train['join_date'].mode()[\n",
        "                             0], inplace=True, axis=0)\n",
        "df_test['join_date'].fillna(df_test['join_date'].mode()[0], inplace=True)\n"
      ]
    },
    {
      "cell_type": "code",
      "execution_count": 7,
      "metadata": {
        "id": "DRg7p1C0tb7G",
        "outputId": "73125012-71bc-458c-a219-5b7591e57516"
      },
      "outputs": [
        {
          "name": "stdout",
          "output_type": "stream",
          "text": [
            "Variable: sex  Number of Categories: 2\n",
            "Variable: marital_status  Number of Categories: 8\n",
            "Variable: branch_code  Number of Categories: 15\n",
            "Variable: occupation_code  Number of Categories: 233\n",
            "Variable: occupation_category_code  Number of Categories: 6\n"
          ]
        }
      ],
      "source": [
        "# Checking the number of Categories for Categorical Columns\n",
        "\n",
        "for cols in df_train.columns:\n",
        "    if df_train[cols].dtype == \"O\" and (cols not in [\"ID\", \"join_date\"]):\n",
        "        print(\"Variable:\", cols, \" Number of Categories:\",\n",
        "              len(df_train[cols].value_counts()))\n"
      ]
    },
    {
      "cell_type": "code",
      "execution_count": 8,
      "metadata": {
        "id": "ceDphOjWIe_i",
        "outputId": "a5873a79-69f8-4b54-fb70-51cdc4d868d4"
      },
      "outputs": [],
      "source": [
        "# One-hot encoding for categories where we do not have many categories\n",
        "cols = ['sex', 'marital_status', 'branch_code', 'occupation_category_code']\n",
        "df_train = pd.get_dummies(df_train, columns=cols, prefix=cols)\n",
        "df_test = pd.get_dummies(df_test, columns=cols, prefix=cols)\n",
        "\n",
        "# Feature Engineering ------- Creating additional features\n",
        "\n",
        "for df in [df_train, df_test]:\n",
        "    df['day_joined'] = pd.DatetimeIndex(df['join_date']).day\n",
        "    df['month_joined'] = pd.DatetimeIndex(df['join_date']).month\n",
        "    df['year_joined'] = pd.DatetimeIndex(df['join_date']).year\n",
        "    df['Age_at_join'] = df['year_joined'] - df['birth_year']\n",
        "    df['time_elapsed_joined'] = (pd.to_datetime(\n",
        "        '08/01/2020') - pd.DatetimeIndex(df['join_date'])).days\n",
        "    df.drop(columns='join_date', inplace=True)\n",
        "\n",
        "\n",
        "# We will only encode the top 95% of categories for the occupation code as there are too may categories to do one-hot\n",
        "value_cum = df_train.occupation_code.value_counts().sort_values(\n",
        "    ascending=False).cumsum()/df_train.shape[0]\n",
        "topn_encode = value_cum[value_cum < 0.95]\n",
        "\n",
        "topn = list(topn_encode.index)\n",
        "\n",
        "for df in [df_train, df_test]:\n",
        "    for categories in topn:\n",
        "        df['occupation_code_' +\n",
        "            categories] = np.where(df['occupation_code'] == categories, 1, 0)\n",
        "    df.drop(columns='occupation_code', inplace=True)\n"
      ]
    },
    {
      "cell_type": "code",
      "execution_count": 9,
      "metadata": {
        "colab": {
          "base_uri": "https://localhost:8080/",
          "height": 282
        },
        "id": "qqgbXBWJVUMO",
        "outputId": "ee333959-9b8b-4f0d-db46-740162500624"
      },
      "outputs": [
        {
          "name": "stdout",
          "output_type": "stream",
          "text": [
            "Training Set dimesions:  (29132, 110)\n",
            "Test Set dimesions:  (10000, 110)\n"
          ]
        }
      ],
      "source": [
        "print(\"Training Set dimesions: \", df_train.shape)\n",
        "print(\"Test Set dimesions: \", df_test.shape)\n"
      ]
    },
    {
      "cell_type": "code",
      "execution_count": 10,
      "metadata": {
        "collapsed": true,
        "id": "xc0rN-OYIe_u"
      },
      "outputs": [],
      "source": [
        "# Setting up the dataset for use in the model\n",
        "product_cols = ['P5DA', 'RIBP', '8NN1', '7POT', '66FJ', 'GYSR', 'SOP4', 'RVSZ', 'PYUQ', 'LJR9', 'N2MW',\n",
        "                'AHXO', 'BSTQ', 'FM3X', 'K6QO', 'QBOL', 'JWFN', 'JZ9D', 'J9JW', 'GHYX', 'ECY3']\n",
        "\n",
        "# Converting product to numeric label\n",
        "product_ref = dict()\n",
        "for i, x in enumerate(product_cols):\n",
        "    product_ref[x] = i\n"
      ]
    },
    {
      "cell_type": "code",
      "execution_count": 11,
      "metadata": {
        "collapsed": true,
        "id": "aF4TyBA4Ie_z"
      },
      "outputs": [],
      "source": [
        "# Converting the dataframe to duplicate observations across different products for the same ID\n",
        "transpose_df = pd.melt(\n",
        "    df_train, id_vars=['ID'], value_vars=product_cols).sort_values('ID')\n",
        "transpose_df = transpose_df.loc[transpose_df.value == 1]\n",
        "\n",
        "# Merging to main training set\n",
        "merged_df = pd.merge(df_train, transpose_df, on='ID', how='left')\n",
        "\n",
        "# Where target product in row, setting the value for product to zero\n",
        "\n",
        "\n",
        "def Replace_Targets(df):\n",
        "    for product in product_cols:\n",
        "        if df[product] == 1 and df['variable'] == product:\n",
        "            df[product] = 0\n",
        "\n",
        "    return df\n",
        "\n",
        "\n",
        "merged_df = merged_df.apply(Replace_Targets, axis=1)\n",
        "\n",
        "# Cleaning up and remapping products to numeric values\n",
        "merged_df.rename(columns={'variable': 'Target'}, inplace=True)\n",
        "merged_df.drop(columns=['value'], inplace=True)\n",
        "merged_df['Target'] = merged_df['Target'].map(product_ref)\n"
      ]
    },
    {
      "cell_type": "code",
      "execution_count": 12,
      "metadata": {
        "colab": {
          "base_uri": "https://localhost:8080/",
          "height": 525
        },
        "id": "iztlwboz4n67",
        "outputId": "b2bad6d7-80ab-4dab-e890-49bcb1165306"
      },
      "outputs": [
        {
          "data": {
            "image/png": "[encoded data removed]",
            "text/plain": [
              "<Figure size 640x480 with 1 Axes>"
            ]
          },
          "metadata": {},
          "output_type": "display_data"
        }
      ],
      "source": [
        "# Feature selection using RandomForestClassifer\n",
        "Best_Features = RandomForestClassifier().fit(merged_df.drop(\n",
        "    columns=[\"ID\", \"Target\"]), merged_df.Target).feature_importances_\n",
        "\n",
        "# Creating X and Y dataframes\n",
        "X = merged_df.drop(columns=[\"ID\", \"Target\"])\n",
        "y = merged_df.Target\n",
        "\n",
        "# Selecting the TopN Features --- Feature Selection\n",
        "\n",
        "combined = dict(zip(X.columns, Best_Features))\n",
        "FI = pd.Series(combined)\n",
        "\n",
        "\n",
        "FI.sort_values(ascending=False).head(10).plot(kind='bar')\n",
        "plt.title('Best Features', fontsize=20)\n",
        "plt.xlabel('Feature Name', fontsize=15)\n",
        "plt.ylabel('Feature Importance', fontsize=15)\n",
        "\n",
        "\n",
        "BF = list(FI.sort_values(ascending=False).head(10).index)\n"
      ]
    },
    {
      "cell_type": "code",
      "execution_count": 13,
      "metadata": {
        "colab": {
          "base_uri": "https://localhost:8080/",
          "height": 357
        },
        "id": "LWhhnXvaRWIC",
        "outputId": "c733c1de-f9b6-46eb-f2c2-bc947840ea8f"
      },
      "outputs": [
        {
          "data": {
            "text/plain": [
              "7     25328\n",
              "14    21629\n",
              "15     6833\n",
              "8      2173\n",
              "1      1780\n",
              "17     1425\n",
              "18     1418\n",
              "20     1102\n",
              "19      902\n",
              "10      838\n",
              "11      539\n",
              "6       431\n",
              "9       354\n",
              "4       339\n",
              "12      324\n",
              "3       316\n",
              "16      311\n",
              "2       157\n",
              "13      110\n",
              "0        40\n",
              "5         4\n",
              "Name: Target, dtype: int64"
            ]
          },
          "execution_count": 13,
          "metadata": {},
          "output_type": "execute_result"
        }
      ],
      "source": [
        "# Checking the distribution of classes\n",
        "merged_df['Target'].value_counts().sort_values(ascending=False)\n"
      ]
    },
    {
      "cell_type": "code",
      "execution_count": 14,
      "metadata": {
        "colab": {
          "base_uri": "https://localhost:8080/",
          "height": 309
        },
        "id": "bbFX9O3BIfAC",
        "outputId": "881016a2-ab9c-47f7-8dbc-a7eb8052c232"
      },
      "outputs": [],
      "source": [
        "# Oversampling classes using SMOTE\n",
        "from imblearn.over_sampling import SMOTE\n",
        "desired_classes = {5: 50, 0: 100, 13: 200,\n",
        "                   2: 300, 19: 3000, 4: 700, 6: 800, 3: 700}\n",
        "sm = SMOTE(random_state=RANDOM_STATE,\n",
        "           sampling_strategy=desired_classes, k_neighbors=3)\n",
        "X_res, y_res = sm.fit_resample(X, y)\n"
      ]
    },
    {
      "cell_type": "code",
      "execution_count": 15,
      "metadata": {},
      "outputs": [],
      "source": [
        "# Training the model\n",
        "\n",
        "import xgboost as xgb\n",
        "from sklearn.model_selection import train_test_split\n",
        "\n",
        "# Splitting the dataset\n",
        "X_train, X_test, y_train, y_test = train_test_split(\n",
        "    X_res, y_res, test_size=0.3, random_state=RANDOM_STATE)\n",
        "\n",
        "# Fitting the Model\n",
        "params = {'objective': 'multi:softprob', 'num_class': 21, 'max_depth': 9,\n",
        "          'eta': 0.20, 'booster': 'dart', 'reg_lambda': 30,\n",
        "          'colsample_bytre': 0.35, 'subsample': 0.85, 'eval_metric': 'mlogloss', 'n_threads': 2}\n",
        "num_boost_round = 999\n",
        "early_stopping = 10\n",
        "\n",
        "\n",
        "dtrain = xgb.DMatrix(X_train, label=y_train)\n",
        "dtest = xgb.DMatrix(X_test, label=y_test)\n",
        "\n",
        "evals = [(dtrain, 'Train'), (dtest, 'Test')]"
      ]
    },
    {
      "cell_type": "code",
      "execution_count": 16,
      "metadata": {},
      "outputs": [
        {
          "name": "stdout",
          "output_type": "stream",
          "text": [
            "<class 'list'>\n"
          ]
        }
      ],
      "source": [
        "# type of evals\n",
        "print(type(evals))"
      ]
    },
    {
      "cell_type": "code",
      "execution_count": null,
      "metadata": {
        "colab": {
          "base_uri": "https://localhost:8080/",
          "height": 1000
        },
        "id": "aqrKeP9m-lAx",
        "outputId": "1e34b97f-e86f-467a-85fa-991dc6007270"
      },
      "outputs": [],
      "source": [
        "\n",
        "\n",
        "model = xgb.train(\n",
        "    params,\n",
        "    dtrain,\n",
        "    num_boost_round=num_boost_round,\n",
        "    evals=evals,\n",
        "    early_stopping_rounds=early_stopping\n",
        ")\n"
      ]
    },
    {
      "cell_type": "code",
      "execution_count": null,
      "metadata": {
        "collapsed": true,
        "id": "xLA3Mc_Huu_J"
      },
      "outputs": [],
      "source": [
        "# Saving the model\n",
        "import pickle\n",
        "file_name = \"Models/xgboost.pkl\"\n",
        "\n",
        "# save\n",
        "pickle.dump(model, open(file_name, \"wb\"))\n"
      ]
    },
    {
      "cell_type": "code",
      "execution_count": 17,
      "metadata": {
        "collapsed": true,
        "id": "JBndIgLPJ6ag"
      },
      "outputs": [],
      "source": [
        "# Load Model\n",
        "import pickle\n",
        "file_name = \"Models/xgboost.pkl\"\n",
        "model = pickle.load(open(file_name, \"rb\"))"
      ]
    },
    {
      "cell_type": "code",
      "execution_count": 18,
      "metadata": {},
      "outputs": [],
      "source": [
        "# convert to list\n",
        "model_columns = list(model.feature_names)"
      ]
    },
    {
      "cell_type": "code",
      "execution_count": 19,
      "metadata": {
        "collapsed": true,
        "id": "gtWMhcIKIfAb"
      },
      "outputs": [],
      "source": [
        "# Making predictions of Test Set\n",
        "X_test1 = df_test.drop(columns=['ID'])\n",
        "\n",
        "# reindexing the columns, Change the order of final_test to match the order of the model\n",
        "final_test = xgb.DMatrix(X_test1.reindex(columns=model_columns))\n",
        "\n",
        "pred_prob = model.predict(final_test, ntree_limit=159)\n"
      ]
    },
    {
      "cell_type": "code",
      "execution_count": 20,
      "metadata": {},
      "outputs": [],
      "source": [
        "# save predictions to file\n",
        "pred_prob_file = pd.DataFrame(pred_prob)"
      ]
    },
    {
      "cell_type": "code",
      "execution_count": 21,
      "metadata": {},
      "outputs": [],
      "source": [
        "pred_prob_file.to_csv('pred_prob_file.csv', index=False)"
      ]
    },
    {
      "cell_type": "code",
      "execution_count": 22,
      "metadata": {
        "collapsed": true,
        "id": "puGpj6-kIfAf"
      },
      "outputs": [],
      "source": [
        "def submission(predict_prob, classes, df_test):\n",
        "    ''' Creates Submission Files from \n",
        "        Probability Outputs, Product names list and \n",
        "        Test file for ID and existing product Extraction'''\n",
        "\n",
        "    # ID Counter\n",
        "    counter = 0\n",
        "    # Output dictionary\n",
        "    output = {'ID X PCODE': [], 'Label': []}\n",
        "\n",
        "    # Iterating over ID values in test data\n",
        "    for idd in df_test['ID'].values:\n",
        "        # Iterating over all probabilities per row\n",
        "        for i, prob in enumerate(predict_prob[counter]):\n",
        "            # Setting product name\n",
        "            product_name = classes[i]\n",
        "            # Checking if current ID already has product, and set prob = 1 if so\n",
        "            if df_test.loc[df_test['ID'] == idd, product_name].values[0] == 1:\n",
        "                prob = 1\n",
        "            output['ID X PCODE'] = output['ID X PCODE'] + \\\n",
        "                [str(idd) + \" X \" + str(product_name)]\n",
        "            output['Label'] = output['Label'] + [prob]\n",
        "        counter += 1\n",
        "    return output\n"
      ]
    },
    {
      "cell_type": "code",
      "execution_count": 23,
      "metadata": {},
      "outputs": [],
      "source": [
        "output = submission(pred_prob, product_cols, df_test)"
      ]
    },
    {
      "cell_type": "code",
      "execution_count": 24,
      "metadata": {
        "collapsed": true,
        "id": "yXpDgLv6IfAk"
      },
      "outputs": [],
      "source": [
        "df_submission = pd.DataFrame.from_dict(output)\n"
      ]
    },
    {
      "cell_type": "code",
      "execution_count": 25,
      "metadata": {},
      "outputs": [],
      "source": [
        "df_submission.to_csv(\"data/Predictions.csv\", index=False)"
      ]
    },
    {
      "cell_type": "code",
      "execution_count": 26,
      "metadata": {
        "colab": {
          "base_uri": "https://localhost:8080/",
          "height": 1000
        },
        "id": "u22wPUk7IfAo",
        "outputId": "30399a29-2250-4fb1-80b9-11439dde2bc7"
      },
      "outputs": [],
      "source": [
        "id_x_pcode = pd.read_csv(\"data/Predictions.csv\")\n"
      ]
    },
    {
      "cell_type": "code",
      "execution_count": 27,
      "metadata": {},
      "outputs": [],
      "source": [
        "# split ID and PCODE from ID X PCODE and make a new dataframe\n",
        "id_x_pcode[['ID', 'PCODE']] = id_x_pcode['ID X PCODE'].str.split(' X ', expand=True)"
      ]
    },
    {
      "cell_type": "code",
      "execution_count": 28,
      "metadata": {},
      "outputs": [],
      "source": [
        "# remove ID X PCODE column and change the order of columns as ID, PCODE, Label\n",
        "id_x_pcode = id_x_pcode[['ID', 'PCODE', 'Label']]"
      ]
    },
    {
      "cell_type": "code",
      "execution_count": 29,
      "metadata": {},
      "outputs": [],
      "source": [
        "# save the dataframe to csv file\n",
        "id_x_pcode.to_csv(\"data/id_pcode_label.csv\", index=False)"
      ]
    },
    {
      "cell_type": "code",
      "execution_count": 30,
      "metadata": {},
      "outputs": [],
      "source": [
        "# read the csv file\n",
        "id_pcode_label = pd.read_csv(\"data/id_pcode_label.csv\")"
      ]
    },
    {
      "cell_type": "code",
      "execution_count": 31,
      "metadata": {},
      "outputs": [
        {
          "data": {
            "text/html": [
              "<div>\n",
              "<style scoped>\n",
              "    .dataframe tbody tr th:only-of-type {\n",
              "        vertical-align: middle;\n",
              "    }\n",
              "\n",
              "    .dataframe tbody tr th {\n",
              "        vertical-align: top;\n",
              "    }\n",
              "\n",
              "    .dataframe thead th {\n",
              "        text-align: right;\n",
              "    }\n",
              "</style>\n",
              "<table border=\"1\" class=\"dataframe\">\n",
              "  <thead>\n",
              "    <tr style=\"text-align: right;\">\n",
              "      <th></th>\n",
              "      <th>ID</th>\n",
              "      <th>PCODE</th>\n",
              "      <th>Label</th>\n",
              "    </tr>\n",
              "  </thead>\n",
              "  <tbody>\n",
              "    <tr>\n",
              "      <th>0</th>\n",
              "      <td>F86J5PC</td>\n",
              "      <td>P5DA</td>\n",
              "      <td>0.000017</td>\n",
              "    </tr>\n",
              "    <tr>\n",
              "      <th>1</th>\n",
              "      <td>F86J5PC</td>\n",
              "      <td>RIBP</td>\n",
              "      <td>0.000153</td>\n",
              "    </tr>\n",
              "    <tr>\n",
              "      <th>2</th>\n",
              "      <td>F86J5PC</td>\n",
              "      <td>8NN1</td>\n",
              "      <td>0.000014</td>\n",
              "    </tr>\n",
              "    <tr>\n",
              "      <th>3</th>\n",
              "      <td>F86J5PC</td>\n",
              "      <td>7POT</td>\n",
              "      <td>0.000079</td>\n",
              "    </tr>\n",
              "    <tr>\n",
              "      <th>4</th>\n",
              "      <td>F86J5PC</td>\n",
              "      <td>66FJ</td>\n",
              "      <td>0.000071</td>\n",
              "    </tr>\n",
              "    <tr>\n",
              "      <th>5</th>\n",
              "      <td>F86J5PC</td>\n",
              "      <td>GYSR</td>\n",
              "      <td>0.000018</td>\n",
              "    </tr>\n",
              "    <tr>\n",
              "      <th>6</th>\n",
              "      <td>F86J5PC</td>\n",
              "      <td>SOP4</td>\n",
              "      <td>0.000066</td>\n",
              "    </tr>\n",
              "    <tr>\n",
              "      <th>7</th>\n",
              "      <td>F86J5PC</td>\n",
              "      <td>RVSZ</td>\n",
              "      <td>1.000000</td>\n",
              "    </tr>\n",
              "    <tr>\n",
              "      <th>8</th>\n",
              "      <td>F86J5PC</td>\n",
              "      <td>PYUQ</td>\n",
              "      <td>0.000541</td>\n",
              "    </tr>\n",
              "    <tr>\n",
              "      <th>9</th>\n",
              "      <td>F86J5PC</td>\n",
              "      <td>LJR9</td>\n",
              "      <td>0.000026</td>\n",
              "    </tr>\n",
              "    <tr>\n",
              "      <th>10</th>\n",
              "      <td>F86J5PC</td>\n",
              "      <td>N2MW</td>\n",
              "      <td>0.000119</td>\n",
              "    </tr>\n",
              "    <tr>\n",
              "      <th>11</th>\n",
              "      <td>F86J5PC</td>\n",
              "      <td>AHXO</td>\n",
              "      <td>0.000035</td>\n",
              "    </tr>\n",
              "    <tr>\n",
              "      <th>12</th>\n",
              "      <td>F86J5PC</td>\n",
              "      <td>BSTQ</td>\n",
              "      <td>0.000013</td>\n",
              "    </tr>\n",
              "    <tr>\n",
              "      <th>13</th>\n",
              "      <td>F86J5PC</td>\n",
              "      <td>FM3X</td>\n",
              "      <td>0.000026</td>\n",
              "    </tr>\n",
              "    <tr>\n",
              "      <th>14</th>\n",
              "      <td>F86J5PC</td>\n",
              "      <td>K6QO</td>\n",
              "      <td>0.989137</td>\n",
              "    </tr>\n",
              "    <tr>\n",
              "      <th>15</th>\n",
              "      <td>F86J5PC</td>\n",
              "      <td>QBOL</td>\n",
              "      <td>0.006499</td>\n",
              "    </tr>\n",
              "    <tr>\n",
              "      <th>16</th>\n",
              "      <td>F86J5PC</td>\n",
              "      <td>JWFN</td>\n",
              "      <td>0.000045</td>\n",
              "    </tr>\n",
              "    <tr>\n",
              "      <th>17</th>\n",
              "      <td>F86J5PC</td>\n",
              "      <td>JZ9D</td>\n",
              "      <td>0.000012</td>\n",
              "    </tr>\n",
              "    <tr>\n",
              "      <th>18</th>\n",
              "      <td>F86J5PC</td>\n",
              "      <td>J9JW</td>\n",
              "      <td>0.000020</td>\n",
              "    </tr>\n",
              "    <tr>\n",
              "      <th>19</th>\n",
              "      <td>F86J5PC</td>\n",
              "      <td>GHYX</td>\n",
              "      <td>0.002122</td>\n",
              "    </tr>\n",
              "    <tr>\n",
              "      <th>20</th>\n",
              "      <td>F86J5PC</td>\n",
              "      <td>ECY3</td>\n",
              "      <td>0.000951</td>\n",
              "    </tr>\n",
              "    <tr>\n",
              "      <th>21</th>\n",
              "      <td>H6141K3</td>\n",
              "      <td>P5DA</td>\n",
              "      <td>0.001326</td>\n",
              "    </tr>\n",
              "    <tr>\n",
              "      <th>22</th>\n",
              "      <td>H6141K3</td>\n",
              "      <td>RIBP</td>\n",
              "      <td>0.002028</td>\n",
              "    </tr>\n",
              "    <tr>\n",
              "      <th>23</th>\n",
              "      <td>H6141K3</td>\n",
              "      <td>8NN1</td>\n",
              "      <td>0.000540</td>\n",
              "    </tr>\n",
              "    <tr>\n",
              "      <th>24</th>\n",
              "      <td>H6141K3</td>\n",
              "      <td>7POT</td>\n",
              "      <td>0.001037</td>\n",
              "    </tr>\n",
              "    <tr>\n",
              "      <th>25</th>\n",
              "      <td>H6141K3</td>\n",
              "      <td>66FJ</td>\n",
              "      <td>0.000711</td>\n",
              "    </tr>\n",
              "    <tr>\n",
              "      <th>26</th>\n",
              "      <td>H6141K3</td>\n",
              "      <td>GYSR</td>\n",
              "      <td>0.000259</td>\n",
              "    </tr>\n",
              "    <tr>\n",
              "      <th>27</th>\n",
              "      <td>H6141K3</td>\n",
              "      <td>SOP4</td>\n",
              "      <td>0.001176</td>\n",
              "    </tr>\n",
              "    <tr>\n",
              "      <th>28</th>\n",
              "      <td>H6141K3</td>\n",
              "      <td>RVSZ</td>\n",
              "      <td>1.000000</td>\n",
              "    </tr>\n",
              "    <tr>\n",
              "      <th>29</th>\n",
              "      <td>H6141K3</td>\n",
              "      <td>PYUQ</td>\n",
              "      <td>0.002931</td>\n",
              "    </tr>\n",
              "    <tr>\n",
              "      <th>30</th>\n",
              "      <td>H6141K3</td>\n",
              "      <td>LJR9</td>\n",
              "      <td>0.000751</td>\n",
              "    </tr>\n",
              "    <tr>\n",
              "      <th>31</th>\n",
              "      <td>H6141K3</td>\n",
              "      <td>N2MW</td>\n",
              "      <td>0.001984</td>\n",
              "    </tr>\n",
              "    <tr>\n",
              "      <th>32</th>\n",
              "      <td>H6141K3</td>\n",
              "      <td>AHXO</td>\n",
              "      <td>0.001350</td>\n",
              "    </tr>\n",
              "    <tr>\n",
              "      <th>33</th>\n",
              "      <td>H6141K3</td>\n",
              "      <td>BSTQ</td>\n",
              "      <td>0.000202</td>\n",
              "    </tr>\n",
              "    <tr>\n",
              "      <th>34</th>\n",
              "      <td>H6141K3</td>\n",
              "      <td>FM3X</td>\n",
              "      <td>0.000625</td>\n",
              "    </tr>\n",
              "    <tr>\n",
              "      <th>35</th>\n",
              "      <td>H6141K3</td>\n",
              "      <td>K6QO</td>\n",
              "      <td>1.000000</td>\n",
              "    </tr>\n",
              "    <tr>\n",
              "      <th>36</th>\n",
              "      <td>H6141K3</td>\n",
              "      <td>QBOL</td>\n",
              "      <td>0.484503</td>\n",
              "    </tr>\n",
              "    <tr>\n",
              "      <th>37</th>\n",
              "      <td>H6141K3</td>\n",
              "      <td>JWFN</td>\n",
              "      <td>0.025606</td>\n",
              "    </tr>\n",
              "    <tr>\n",
              "      <th>38</th>\n",
              "      <td>H6141K3</td>\n",
              "      <td>JZ9D</td>\n",
              "      <td>0.000122</td>\n",
              "    </tr>\n",
              "    <tr>\n",
              "      <th>39</th>\n",
              "      <td>H6141K3</td>\n",
              "      <td>J9JW</td>\n",
              "      <td>0.000150</td>\n",
              "    </tr>\n",
              "    <tr>\n",
              "      <th>40</th>\n",
              "      <td>H6141K3</td>\n",
              "      <td>GHYX</td>\n",
              "      <td>0.419278</td>\n",
              "    </tr>\n",
              "    <tr>\n",
              "      <th>41</th>\n",
              "      <td>H6141K3</td>\n",
              "      <td>ECY3</td>\n",
              "      <td>0.052819</td>\n",
              "    </tr>\n",
              "    <tr>\n",
              "      <th>42</th>\n",
              "      <td>RBAYUXZ</td>\n",
              "      <td>P5DA</td>\n",
              "      <td>0.001311</td>\n",
              "    </tr>\n",
              "    <tr>\n",
              "      <th>43</th>\n",
              "      <td>RBAYUXZ</td>\n",
              "      <td>RIBP</td>\n",
              "      <td>0.002166</td>\n",
              "    </tr>\n",
              "    <tr>\n",
              "      <th>44</th>\n",
              "      <td>RBAYUXZ</td>\n",
              "      <td>8NN1</td>\n",
              "      <td>0.007531</td>\n",
              "    </tr>\n",
              "    <tr>\n",
              "      <th>45</th>\n",
              "      <td>RBAYUXZ</td>\n",
              "      <td>7POT</td>\n",
              "      <td>0.001513</td>\n",
              "    </tr>\n",
              "    <tr>\n",
              "      <th>46</th>\n",
              "      <td>RBAYUXZ</td>\n",
              "      <td>66FJ</td>\n",
              "      <td>0.002845</td>\n",
              "    </tr>\n",
              "    <tr>\n",
              "      <th>47</th>\n",
              "      <td>RBAYUXZ</td>\n",
              "      <td>GYSR</td>\n",
              "      <td>0.000093</td>\n",
              "    </tr>\n",
              "    <tr>\n",
              "      <th>48</th>\n",
              "      <td>RBAYUXZ</td>\n",
              "      <td>SOP4</td>\n",
              "      <td>0.003204</td>\n",
              "    </tr>\n",
              "    <tr>\n",
              "      <th>49</th>\n",
              "      <td>RBAYUXZ</td>\n",
              "      <td>RVSZ</td>\n",
              "      <td>1.000000</td>\n",
              "    </tr>\n",
              "  </tbody>\n",
              "</table>\n",
              "</div>"
            ],
            "text/plain": [
              "         ID PCODE     Label\n",
              "0   F86J5PC  P5DA  0.000017\n",
              "1   F86J5PC  RIBP  0.000153\n",
              "2   F86J5PC  8NN1  0.000014\n",
              "3   F86J5PC  7POT  0.000079\n",
              "4   F86J5PC  66FJ  0.000071\n",
              "5   F86J5PC  GYSR  0.000018\n",
              "6   F86J5PC  SOP4  0.000066\n",
              "7   F86J5PC  RVSZ  1.000000\n",
              "8   F86J5PC  PYUQ  0.000541\n",
              "9   F86J5PC  LJR9  0.000026\n",
              "10  F86J5PC  N2MW  0.000119\n",
              "11  F86J5PC  AHXO  0.000035\n",
              "12  F86J5PC  BSTQ  0.000013\n",
              "13  F86J5PC  FM3X  0.000026\n",
              "14  F86J5PC  K6QO  0.989137\n",
              "15  F86J5PC  QBOL  0.006499\n",
              "16  F86J5PC  JWFN  0.000045\n",
              "17  F86J5PC  JZ9D  0.000012\n",
              "18  F86J5PC  J9JW  0.000020\n",
              "19  F86J5PC  GHYX  0.002122\n",
              "20  F86J5PC  ECY3  0.000951\n",
              "21  H6141K3  P5DA  0.001326\n",
              "22  H6141K3  RIBP  0.002028\n",
              "23  H6141K3  8NN1  0.000540\n",
              "24  H6141K3  7POT  0.001037\n",
              "25  H6141K3  66FJ  0.000711\n",
              "26  H6141K3  GYSR  0.000259\n",
              "27  H6141K3  SOP4  0.001176\n",
              "28  H6141K3  RVSZ  1.000000\n",
              "29  H6141K3  PYUQ  0.002931\n",
              "30  H6141K3  LJR9  0.000751\n",
              "31  H6141K3  N2MW  0.001984\n",
              "32  H6141K3  AHXO  0.001350\n",
              "33  H6141K3  BSTQ  0.000202\n",
              "34  H6141K3  FM3X  0.000625\n",
              "35  H6141K3  K6QO  1.000000\n",
              "36  H6141K3  QBOL  0.484503\n",
              "37  H6141K3  JWFN  0.025606\n",
              "38  H6141K3  JZ9D  0.000122\n",
              "39  H6141K3  J9JW  0.000150\n",
              "40  H6141K3  GHYX  0.419278\n",
              "41  H6141K3  ECY3  0.052819\n",
              "42  RBAYUXZ  P5DA  0.001311\n",
              "43  RBAYUXZ  RIBP  0.002166\n",
              "44  RBAYUXZ  8NN1  0.007531\n",
              "45  RBAYUXZ  7POT  0.001513\n",
              "46  RBAYUXZ  66FJ  0.002845\n",
              "47  RBAYUXZ  GYSR  0.000093\n",
              "48  RBAYUXZ  SOP4  0.003204\n",
              "49  RBAYUXZ  RVSZ  1.000000"
            ]
          },
          "execution_count": 31,
          "metadata": {},
          "output_type": "execute_result"
        }
      ],
      "source": [
        "id_pcode_label.head(50)"
      ]
    },
    {
      "cell_type": "code",
      "execution_count": 32,
      "metadata": {},
      "outputs": [],
      "source": [
        "# for each ID print the 5 max labels\n",
        "id_pcode_top5=id_pcode_label.groupby('ID').apply(lambda x: x.nlargest(5, 'Label')).reset_index(drop=True)"
      ]
    },
    {
      "cell_type": "code",
      "execution_count": 6,
      "metadata": {},
      "outputs": [
        {
          "ename": "NameError",
          "evalue": "name 'id_pcode_top5' is not defined",
          "output_type": "error",
          "traceback": [
            "\u001b[0;31m---------------------------------------------------------------------------\u001b[0m",
            "\u001b[0;31mNameError\u001b[0m                                 Traceback (most recent call last)",
            "Cell \u001b[0;32mIn [6], line 2\u001b[0m\n\u001b[1;32m      1\u001b[0m \u001b[39m# save the dataframe to csv file\u001b[39;00m\n\u001b[0;32m----> 2\u001b[0m id_pcode_top5\u001b[39m.\u001b[39mto_csv(\u001b[39m\"\u001b[39m\u001b[39mdata/id_pcode_top5.csv\u001b[39m\u001b[39m\"\u001b[39m, index\u001b[39m=\u001b[39m\u001b[39mFalse\u001b[39;00m)\n",
            "\u001b[0;31mNameError\u001b[0m: name 'id_pcode_top5' is not defined"
          ]
        }
      ],
      "source": [
        "# save the dataframe to csv file\n",
        "id_pcode_top5.to_csv(\"data/id_pcode_top5.csv\", index=False)"
      ]
    },
    {
      "cell_type": "code",
      "execution_count": 3,
      "metadata": {},
      "outputs": [],
      "source": [
        "# read the csv file\n",
        "id_pcode_top5_read = pd.read_csv(\"data/id_pcode_top5.csv\")"
      ]
    },
    {
      "cell_type": "code",
      "execution_count": 5,
      "metadata": {},
      "outputs": [
        {
          "data": {
            "text/html": [
              "<div>\n",
              "<style scoped>\n",
              "    .dataframe tbody tr th:only-of-type {\n",
              "        vertical-align: middle;\n",
              "    }\n",
              "\n",
              "    .dataframe tbody tr th {\n",
              "        vertical-align: top;\n",
              "    }\n",
              "\n",
              "    .dataframe thead th {\n",
              "        text-align: right;\n",
              "    }\n",
              "</style>\n",
              "<table border=\"1\" class=\"dataframe\">\n",
              "  <thead>\n",
              "    <tr style=\"text-align: right;\">\n",
              "      <th></th>\n",
              "      <th>ID</th>\n",
              "      <th>PCODE</th>\n",
              "      <th>Label</th>\n",
              "    </tr>\n",
              "  </thead>\n",
              "  <tbody>\n",
              "    <tr>\n",
              "      <th>21285</th>\n",
              "      <td>F86J5PC</td>\n",
              "      <td>RVSZ</td>\n",
              "      <td>1.000000</td>\n",
              "    </tr>\n",
              "    <tr>\n",
              "      <th>21286</th>\n",
              "      <td>F86J5PC</td>\n",
              "      <td>K6QO</td>\n",
              "      <td>0.989137</td>\n",
              "    </tr>\n",
              "    <tr>\n",
              "      <th>21287</th>\n",
              "      <td>F86J5PC</td>\n",
              "      <td>QBOL</td>\n",
              "      <td>0.006499</td>\n",
              "    </tr>\n",
              "    <tr>\n",
              "      <th>21288</th>\n",
              "      <td>F86J5PC</td>\n",
              "      <td>GHYX</td>\n",
              "      <td>0.002122</td>\n",
              "    </tr>\n",
              "    <tr>\n",
              "      <th>21289</th>\n",
              "      <td>F86J5PC</td>\n",
              "      <td>ECY3</td>\n",
              "      <td>0.000951</td>\n",
              "    </tr>\n",
              "  </tbody>\n",
              "</table>\n",
              "</div>"
            ],
            "text/plain": [
              "            ID PCODE     Label\n",
              "21285  F86J5PC  RVSZ  1.000000\n",
              "21286  F86J5PC  K6QO  0.989137\n",
              "21287  F86J5PC  QBOL  0.006499\n",
              "21288  F86J5PC  GHYX  0.002122\n",
              "21289  F86J5PC  ECY3  0.000951"
            ]
          },
          "execution_count": 5,
          "metadata": {},
          "output_type": "execute_result"
        }
      ],
      "source": [
        "# input the ID and print the top 5 labels\n",
        "input_id = input(\"Enter ID: \")\n",
        "id_pcode_top5_read.loc[id_pcode_top5_read['ID'] == str(input_id)]"
      ]
    }
  ],
  "metadata": {
    "accelerator": "GPU",
    "colab": {
      "collapsed_sections": [],
      "name": "XGBoost - 0.379144logloss .ipynb",
      "provenance": []
    },
    "kernelspec": {
      "display_name": "Python 3.8 - AzureML",
      "language": "python",
      "name": "python38-azureml"
    },
    "language_info": {
      "codemirror_mode": {
        "name": "ipython",
        "version": 3
      },
      "file_extension": ".py",
      "mimetype": "text/x-python",
      "name": "python",
      "nbconvert_exporter": "python",
      "pygments_lexer": "ipython3",
      "version": "3.8.5"
    },
    "vscode": {
      "interpreter": {
        "hash": "916dbcbb3f70747c44a77c7bcd40155683ae19c65e1c03b4aa3499c5328201f1"
      }
    }
  },
  "nbformat": 4,
  "nbformat_minor": 0
}
